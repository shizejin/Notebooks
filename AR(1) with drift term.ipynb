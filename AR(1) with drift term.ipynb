{
 "cells": [
  {
   "cell_type": "code",
   "execution_count": 1,
   "metadata": {},
   "outputs": [],
   "source": [
    "from math import erfc, sqrt\n",
    "from quantecon.markov.core import MarkovChain\n",
    "\n",
    "import numpy as np\n",
    "from numba import njit"
   ]
  },
  {
   "cell_type": "markdown",
   "metadata": {},
   "source": [
    "Consider the AR(1) process with drift $b$,\n",
    "\n",
    "$$\n",
    "y_{t+1}=b+\\rho y_{t}+u_{t+1},\n",
    "$$\n",
    "\n",
    "and the mean of the stationary distribution is $\\frac{b}{(1-\\rho)}$. If we divide $b$ into $\\frac{1}{1-\\rho}b$ and $\\frac{-\\rho}{1-\\rho}b$ and move the first part to the l.h.s., the original AR(1) process can be written as\n",
    "$$\n",
    "\\Leftrightarrow y_{t+1}-\\frac{1}{1-\\rho}b=\\rho y_{t}-\\frac{\\rho}{1-\\rho}b+u_{t+1},\n",
    "$$\n",
    "$$\n",
    "\\Leftrightarrow\\tilde{y}_{t+1}=\\rho\\tilde{y}_{t}+u_{t+1},\n",
    "$$\n",
    "\n",
    "where $\\tilde{y}_t = y_t - \\frac{b}{1-\\rho}$. As $\\tilde{y}_t$ follows AR(1) process without drift term, and $\\tilde{y}_t$ has the same standard deviation as $y_t$ which equals to $\\frac{σ^2}{1 - ρ^2}$, we can use the existing tauchen code to approximate the Markov transition matrix. \n",
    "\n",
    "After we have the transition matrix for $\\tilde{y}_t$, we can simply shift the state values by $\\frac{b}{1-\\rho}$ and that should be the transition matrix for $y_t$."
   ]
  },
  {
   "cell_type": "markdown",
   "metadata": {},
   "source": [
    "I made the minimal modification to the existing code to make `qe.tauchen` able to handle the non-zero drift term. `_fill_tauchen` is kept unchanged."
   ]
  },
  {
   "cell_type": "code",
   "execution_count": 2,
   "metadata": {},
   "outputs": [],
   "source": [
    "def tauchen(rho, sigma_u, b=0., m=3, n=7):\n",
    "\n",
    "    # standard deviation of demeaned y_t\n",
    "    std_y = np.sqrt(sigma_u**2 / (1 - rho**2))\n",
    "\n",
    "    # top of discrete state space for demeaned y_t\n",
    "    x_max = m * std_y\n",
    "\n",
    "    # bottom of discrete state space for demeaned y_t\n",
    "    x_min = -x_max\n",
    "\n",
    "    # discretized state space for demeaned y_t\n",
    "    x = np.linspace(x_min, x_max, n)\n",
    "\n",
    "    step = (x_max - x_min) / (n - 1)\n",
    "    half_step = 0.5 * step\n",
    "    P = np.empty((n, n))\n",
    "\n",
    "    # approximate Markov transition matrix for\n",
    "    # demeaned y_t\n",
    "    _fill_tauchen(x, P, n, rho, sigma_u, half_step)\n",
    "\n",
    "    # shifts the state values by the long run mean of y_t\n",
    "    mu = b / (1 - rho)\n",
    "\n",
    "    mc = MarkovChain(P, state_values=x+mu)\n",
    "\n",
    "    return mc\n",
    "\n",
    "@njit\n",
    "def _fill_tauchen(x, P, n, rho, sigma, half_step):\n",
    "    for i in range(n):\n",
    "        P[i, 0] = std_norm_cdf((x[0] - rho * x[i] + half_step) / sigma)\n",
    "        P[i, n - 1] = 1 - \\\n",
    "            std_norm_cdf((x[n - 1] - rho * x[i] - half_step) / sigma)\n",
    "        for j in range(1, n - 1):\n",
    "            z = x[j] - rho * x[i]\n",
    "            P[i, j] = (std_norm_cdf((z + half_step) / sigma) -\n",
    "                       std_norm_cdf((z - half_step) / sigma))\n",
    "\n",
    "@njit\n",
    "def std_norm_cdf(x):\n",
    "    return 0.5 * erfc(-x / sqrt(2))"
   ]
  },
  {
   "cell_type": "markdown",
   "metadata": {},
   "source": [
    "To verify that the code is working, try a simple case with $ρ = 0.9, σ = 1.0,$ and $b = 1.0$."
   ]
  },
  {
   "cell_type": "code",
   "execution_count": 3,
   "metadata": {},
   "outputs": [],
   "source": [
    "ρ = 0.9\n",
    "σ = 1.0\n",
    "b = 1.0"
   ]
  },
  {
   "cell_type": "markdown",
   "metadata": {},
   "source": [
    "The mean of the stationary distribution is"
   ]
  },
  {
   "cell_type": "code",
   "execution_count": 4,
   "metadata": {},
   "outputs": [
    {
     "data": {
      "text/plain": [
       "10.000000000000002"
      ]
     },
     "execution_count": 4,
     "metadata": {},
     "output_type": "execute_result"
    }
   ],
   "source": [
    "b / (1 - ρ)"
   ]
  },
  {
   "cell_type": "markdown",
   "metadata": {},
   "source": [
    "The standard deviation of the stationay distribution is"
   ]
  },
  {
   "cell_type": "code",
   "execution_count": 5,
   "metadata": {},
   "outputs": [
    {
     "data": {
      "text/plain": [
       "2.294157338705618"
      ]
     },
     "execution_count": 5,
     "metadata": {},
     "output_type": "execute_result"
    }
   ],
   "source": [
    "np.sqrt(σ**2 / (1 - ρ**2))"
   ]
  },
  {
   "cell_type": "markdown",
   "metadata": {},
   "source": [
    "Since the process is ergodic, we can approximate the transition matrix and simulate a long time series and then compare the first and the second moments."
   ]
  },
  {
   "cell_type": "code",
   "execution_count": 6,
   "metadata": {},
   "outputs": [
    {
     "name": "stdout",
     "output_type": "stream",
     "text": [
      "10.00118451931713\n",
      "2.314774074929692\n"
     ]
    }
   ],
   "source": [
    "mc = tauchen(ρ, σ, b=b, n=101, m=10)\n",
    "simu = mc.simulate(10000000, random_state=1)\n",
    "print(simu.mean())\n",
    "print(simu.std())"
   ]
  },
  {
   "cell_type": "code",
   "execution_count": null,
   "metadata": {},
   "outputs": [],
   "source": []
  }
 ],
 "metadata": {
  "kernelspec": {
   "display_name": "Python 3",
   "language": "python",
   "name": "python3"
  },
  "language_info": {
   "codemirror_mode": {
    "name": "ipython",
    "version": 3
   },
   "file_extension": ".py",
   "mimetype": "text/x-python",
   "name": "python",
   "nbconvert_exporter": "python",
   "pygments_lexer": "ipython3",
   "version": "3.7.3"
  }
 },
 "nbformat": 4,
 "nbformat_minor": 2
}
