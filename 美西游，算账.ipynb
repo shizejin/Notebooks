{
 "cells": [
  {
   "cell_type": "code",
   "execution_count": 1,
   "metadata": {},
   "outputs": [],
   "source": [
    "import numpy as np"
   ]
  },
  {
   "cell_type": "code",
   "execution_count": 2,
   "metadata": {},
   "outputs": [],
   "source": [
    "# 消费比例\n",
    "#              马， 王， 刘， 施\n",
    "X = np.array([[1,   1,  1,  1], # tusayan 住宿\n",
    "              [1,   1,  1,  1], # page 住宿\n",
    "              [1,   1,  1,  1], # 下羚羊谷\n",
    "              [8.87, 9.5, 33.12, 39.50], # tusayan 第一天 晚餐\n",
    "              [1,   1,  1,  1], # grand canyon 门票\n",
    "              [1,   0,  1,  1], # tusayan 第二天 晚餐\n",
    "              [1,   1,  1,  1], # 奇怪地方的停车费\n",
    "              [1,   0,  1,  1], # page 第一天 晚饭\n",
    "              [1,   1,  1,  1], # page 第二天 午饭\n",
    "              [1,   1,  1,  1], # safeway 零食\n",
    "              [0,   37.47, 25.72, 25.72], # page 第二天 晚餐\n",
    "              [1,   1,  0,  1], # 年年晚餐\n",
    "              [1,   1,  0,  1] # 租车\n",
    "])\n",
    "\n",
    "# normalize\n",
    "X = X / np.sum(X, 1).reshape((13, 1))"
   ]
  },
  {
   "cell_type": "code",
   "execution_count": 3,
   "metadata": {},
   "outputs": [],
   "source": [
    "# 总花费\n",
    "Y = np.array([354., # tusayan 住宿\n",
    "              347., # page 住宿\n",
    "              203.6, # 下羚羊谷\n",
    "              8.87 + 9.5 + 33.12 + 39.50, # tusayan 第一天 晚餐\n",
    "              35., # grand canyon 门票\n",
    "              30.45, # tusayan 第二天 晚餐\n",
    "              10., # 奇怪地方的停车费\n",
    "              45., # page 第一天 晚饭\n",
    "              62.61, # page 第二天 午饭\n",
    "              15.31, # safeway 零食\n",
    "              37.47 + 25.72 + 25.72, # page 第二天 晚餐\n",
    "              97.24, # 年年晚餐\n",
    "              455. # 租车\n",
    "])"
   ]
  },
  {
   "cell_type": "code",
   "execution_count": 4,
   "metadata": {},
   "outputs": [
    {
     "data": {
      "text/plain": [
       "array([474.98, 487.93, 340.87, 531.33])"
      ]
     },
     "execution_count": 4,
     "metadata": {},
     "output_type": "execute_result"
    }
   ],
   "source": [
    "# 总花费\n",
    "consum = np.sum(X * Y.reshape((13, 1)), 0)\n",
    "consum"
   ]
  },
  {
   "cell_type": "code",
   "execution_count": 5,
   "metadata": {},
   "outputs": [],
   "source": [
    "# 出钱比例\n",
    "#              马， 王， 刘， 施\n",
    "Z = np.array([[1,   0,  0,  0], # tusayan 住宿\n",
    "              [0,   0,  0,  1], # page 住宿\n",
    "              [0,   0,  0,  1], # 下羚羊谷\n",
    "              [0,   0,  0,  1], # tusayan 第一天 晚餐\n",
    "              [0,   10, 0, 25], # grand canyon 门票\n",
    "              [4.99, 0, 0, 25.46], # tusayan 第二天 晚餐\n",
    "              [1,   0,  0,  0], # 奇怪地方的停车费\n",
    "              [1,   0,  0,  0], # page 第一天 晚饭\n",
    "              [0,   0,  0,  1], # page 第二天 午饭\n",
    "              [0,   0,  0,  1], # safeway 零食\n",
    "              [0,   1,  0,  0], # page 第二天 晚餐\n",
    "              [0,   0,  0,  1], # 年年晚餐\n",
    "              [0,   0,  1,  0] # 租车\n",
    "])\n",
    "\n",
    "# normalize\n",
    "Z = Z / np.sum(Z, 1).reshape((13, 1))"
   ]
  },
  {
   "cell_type": "code",
   "execution_count": 6,
   "metadata": {},
   "outputs": [],
   "source": [
    "# 总出钱\n",
    "expend = np.sum(Z * Y.reshape((13, 1)), 0)"
   ]
  },
  {
   "cell_type": "code",
   "execution_count": 7,
   "metadata": {},
   "outputs": [
    {
     "data": {
      "text/plain": [
       "array([  60.99,  389.02, -114.13, -335.88])"
      ]
     },
     "execution_count": 7,
     "metadata": {},
     "output_type": "execute_result"
    }
   ],
   "source": [
    "# 马， 王， 刘， 施\n",
    "consum - expend"
   ]
  },
  {
   "cell_type": "code",
   "execution_count": null,
   "metadata": {},
   "outputs": [],
   "source": []
  }
 ],
 "metadata": {
  "kernelspec": {
   "display_name": "Python 3",
   "language": "python",
   "name": "python3"
  },
  "language_info": {
   "codemirror_mode": {
    "name": "ipython",
    "version": 3
   },
   "file_extension": ".py",
   "mimetype": "text/x-python",
   "name": "python",
   "nbconvert_exporter": "python",
   "pygments_lexer": "ipython3",
   "version": "3.6.5"
  }
 },
 "nbformat": 4,
 "nbformat_minor": 2
}
