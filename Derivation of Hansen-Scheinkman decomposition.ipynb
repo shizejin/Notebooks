{
 "cells": [
  {
   "cell_type": "markdown",
   "metadata": {},
   "source": [
    "This notebook demonstrates the derivation of Hansen-Scheinkman decomposition in QuantEcon lecture [\"Additive and Multiplicative Functionals\"](https://python-advanced.quantecon.org/additive_functionals.html#Decomposition)."
   ]
  },
  {
   "cell_type": "markdown",
   "metadata": {},
   "source": [
    "The linear model system is given as\n",
    "\n",
    "$$\n",
    "x_{t+1}=Ax_{t}+Bz_{t+1} \\\\\n",
    "y_{t+1}-y_{t}=\\nu+Dx_{t}+Fz_{t+1}\n",
    "$$\n",
    "\n",
    "where \n",
    "\n",
    "- $ x_{t}: n\\times1 $\n",
    "\n",
    "- $ A: n\\times n $\n",
    "\n",
    "- $ z_{t+1}: m\\times1 $\n",
    "\n",
    "- $ B: n\\times m $\n",
    "\n",
    "- $ y_{t}, \\nu: k \\times 1 $\n",
    "\n",
    "- $ D: k \\times n $\n",
    "\n",
    "- $ F: k \\times m $\n",
    "\n",
    "In the lecture, $y_{t}$ and $\\nu$ are scalars so $k=1$. But this makes no changes to the following calculation."
   ]
  },
  {
   "cell_type": "markdown",
   "metadata": {},
   "source": [
    "We can decompose $y_t$ as following\n",
    "\n",
    "$$\n",
    "\\begin{aligned}\n",
    "y_{t}\t&=y_{t-1}+\\nu+Dx_{t-1}+Fz_{t} \\\\\n",
    "\t&= \\left(y_{t-2}+\\nu+Dx_{t-2}+Fz_{t-1}\\right)+\\nu+Dx_{t-1}+Fz_{t} \\\\\n",
    "\t&=\\cdots \\\\\n",
    "\t&=y_{0}+t\\nu+\\sum_{j=1}^{t}Fz_{j}+D\\sum_{j=0}^{t-1}x_{j}\n",
    "\\end{aligned}\n",
    "$$"
   ]
  },
  {
   "cell_type": "markdown",
   "metadata": {},
   "source": [
    "Note that\n",
    "\n",
    "$$\n",
    "\\begin{aligned}\n",
    "x_{t}\t&=Ax_{t-1}+Bz_{t} \\\\\n",
    "\t&=A\\left(Ax_{t-2}+Bz_{t-1}\\right)+Bz_{t} \\\\\n",
    "\t&=A^{2}x_{t-2}+ABz_{t-1}+Bz_{t} \\\\\n",
    "\t&=\\cdots \\\\\n",
    "\t&=A^{t}x_{0}+\\sum_{j=1}^{t}A^{t-j}Bz_{j}\n",
    "\\end{aligned}\n",
    "$$\n",
    "\n",
    "which implies\n",
    "\n",
    "$$\n",
    "\\begin{aligned}\n",
    "\\sum_{j=0}^{t-1}x_{j}&=\t\\left(I+A+\\cdots+A^{t-1}\\right)x_{0}+\\sum_{j=1}^{t-1}\\left(I+A+\\cdots+A^{t-j-1}\\right)Bz_{j} \\\\\n",
    "&=\t\\left(I+A+\\cdots\\right)x_{0}+\\sum_{j=1}^{t}\\left(I+A+A^{2}+\\cdots\\right)Bz_{j}\n",
    "\t-\\left(A^{t}+A^{t+1}+\\cdots\\right)x_{0}-\\sum_{j=1}^{t}\\left(A^{t-j}+A^{t-j+1}+\\cdots\\right)Bz_{j} \\\\\n",
    "&=\t\\left(I-A\\right)^{-1}x_{0}+\\sum_{j=1}^{t}\\left(I-A\\right)^{-1}Bz_{j}\n",
    "\t-\\left(I+A+A^{2}+\\cdots\\right)\\left(A^{t}x_{0}+\\sum_{j=1}^{t}A^{t-j}Bz_{j}\\right) \\\\\n",
    "&=\t\\left(I-A\\right)^{-1}x_{0}+\\sum_{j=1}^{t}\\left(I-A\\right)^{-1}Bz_{j}-\\left(I-A\\right)^{-1}x_{t}\n",
    "\\end{aligned}\n",
    "$$"
   ]
  },
  {
   "cell_type": "markdown",
   "metadata": {},
   "source": [
    "Substituting this in the decomposition of $y_t$ gives\n",
    "\n",
    "$$\n",
    "\\begin{aligned}\n",
    "y_{t}\t&=y_{0}+t\\nu+\\sum_{j=1}^{t}Fz_{j}+D\\sum_{j=0}^{t-1}x_{j} \\\\\n",
    "\t&=y_{0}+t\\nu+\\sum_{j=1}^{t}Fz_{j}+D\\left[\\left(I-A\\right)^{-1}x_{0}+\\sum_{j=1}^{t}\\left(I-A\\right)^{-1}Bz_{j}-\\left(I-A\\right)^{-1}x_{t}\\right] \\\\\n",
    "\t&=y_{0}+t\\nu+\\sum_{j=1}^{t}\\left(\\underset{\\equiv H}{\\underbrace{F+D\\left(I-A\\right)^{-1}B}}\\right)z_{j}+\\underset{\\equiv g}{\\underbrace{D\\left(I-A\\right)^{-1}}}x_{0}-\\underset{\\equiv g}{\\underbrace{D\\left(I-A\\right)^{-1}}}x_{t} \\\\\n",
    "\t&=t\\nu+\\sum_{j=1}^{t}Hz_{j}-gx_{t}+gx_{0}+y_{0}\n",
    "\\end{aligned}\n",
    "$$"
   ]
  },
  {
   "cell_type": "code",
   "execution_count": null,
   "metadata": {},
   "outputs": [],
   "source": []
  }
 ],
 "metadata": {
  "kernelspec": {
   "display_name": "Python 3",
   "language": "python",
   "name": "python3"
  },
  "language_info": {
   "codemirror_mode": {
    "name": "ipython",
    "version": 3
   },
   "file_extension": ".py",
   "mimetype": "text/x-python",
   "name": "python",
   "nbconvert_exporter": "python",
   "pygments_lexer": "ipython3",
   "version": "3.6.5"
  }
 },
 "nbformat": 4,
 "nbformat_minor": 2
}
