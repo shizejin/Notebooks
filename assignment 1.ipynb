{
 "cells": [
  {
   "cell_type": "markdown",
   "id": "8ec8d429",
   "metadata": {},
   "source": [
    "## Advanced Quantitative Economics and Finance with Python\n",
    "### Assignment 1"
   ]
  },
  {
   "cell_type": "markdown",
   "id": "ce3bdf62",
   "metadata": {},
   "source": [
    "This assignment focuses on the two-period life cycle OLG model that we studied in the class. All the model settings will be the same as we went through on the board. It also requires you to study and understand each line of code in the \"dynamic_fiscal_policy_two_period\" Jupyter notebook.\n",
    "\n",
    "We will do some copy and paste from the \"dynamic_fiscal_policy_two_period\" notebook, alter the code to make it more concise, and also write your own code to compute equilibrium transition path."
   ]
  },
  {
   "cell_type": "markdown",
   "id": "d0a60498",
   "metadata": {},
   "source": [
    "The assignment will be divided into four steps. \n",
    "\n",
    "1. Create your \"labotory\" for policy experiment, use `Numba`,\n",
    "2. Propose your own policy experiments, solve for the transition path, and explain it,\n",
    "3. Compute transition path with time separable preference and characterize the single agent problem using value function and Bellman equation,\n",
    "4. Solve an extended model where agents face with labor productivity shocks."
   ]
  },
  {
   "cell_type": "markdown",
   "id": "333b629b",
   "metadata": {},
   "source": [
    "To accomplish this assignment, please follow closely the instructions below, and fill in each cell by either Math (using Markdown) or Python code. **Please add more cells anytime you feel needed**."
   ]
  },
  {
   "cell_type": "markdown",
   "id": "5e8458cf",
   "metadata": {},
   "source": [
    "You can start with declaring model parameters ($\\alpha$ and $\\beta$), and defining helper functions below (`K_to_W`, `K_to_r`, etc.)"
   ]
  },
  {
   "cell_type": "code",
   "execution_count": 1,
   "id": "6d6376d5",
   "metadata": {},
   "outputs": [],
   "source": [
    "# model parameters"
   ]
  },
  {
   "cell_type": "code",
   "execution_count": 2,
   "id": "bc31a541",
   "metadata": {},
   "outputs": [],
   "source": [
    "# helper functions"
   ]
  },
  {
   "cell_type": "markdown",
   "id": "cf2362b9",
   "metadata": {},
   "source": [
    "## Step 1: writing a wrapper function"
   ]
  },
  {
   "cell_type": "markdown",
   "id": "cb65c50f",
   "metadata": {},
   "source": [
    "The first step focuses on the closed form solution. In the class, we discussed in total 4 interesting policy experiments. For each, we solved the transition path numerically using the code implied by the closed form solution. But each time we repeated many lines by copying and pasting, and this is very inefficient."
   ]
  },
  {
   "cell_type": "markdown",
   "id": "c0113b49",
   "metadata": {},
   "source": [
    "Therefore, the first task is to write a wrapper function, which takes fiscal policy experiment of interest flexibly as inputs, and return the sequences that describe the transition of the economy."
   ]
  },
  {
   "cell_type": "markdown",
   "id": "f2e91fa8",
   "metadata": {},
   "source": [
    "In detail, please construct two functions: 1. `closed_form_transition`, which is a **Numba jitted** Python function, and 2. `closed_form_experiment` function, which is a **Normal** Python function.\n",
    "\n",
    "1. `closed_form_transition`: we have a function defined in the \"dynamic_fiscal_policy_two_period\" notebook, which is designed in particular for studying tax cut experiment. Your task is to modify this function to make it able to take a broader class of fiscal policy experiments as input, and solve for the transition path using the closed form solution, and return the sequences. (Hint: Please think about how many sequences out of ($\\tau_t$, $G_t$, $A_t^g$) you need to make as exogenously given to define a fiscal policy properly. You can use Python keyword arguments to make some sequences given as inputs and some left to be `None`. And you can use `if x is None` condition to check what variables to be computed using the government budget constraint)\n",
    "2. `closed_form_experiment`: this normal Python function calls `closed_form_transition` and plot the transition paths. Note that we cannot jit this function using Numba because it calls functions from `Matplotlib`."
   ]
  },
  {
   "cell_type": "markdown",
   "id": "e0a9876a",
   "metadata": {},
   "source": [
    "Please complete defining the following Python functions."
   ]
  },
  {
   "cell_type": "code",
   "execution_count": null,
   "id": "bf7abf3b",
   "metadata": {},
   "outputs": [],
   "source": [
    "@njit\n",
    "def closed_form_transition(...):\n",
    "\n",
    "    return quant_seq, price_seq, policy_seq"
   ]
  },
  {
   "cell_type": "code",
   "execution_count": null,
   "id": "03bf2b34",
   "metadata": {},
   "outputs": [],
   "source": [
    "def closed_form_experiment(...):\n",
    "\n",
    "    quant_seq, price_seq, policy_seq = closed_form_transition(...)\n",
    "\n",
    "    fig, axs = plt.subplots(3, 3, figsize=(14, 10))\n",
    "\n",
    "    return None"
   ]
  },
  {
   "cell_type": "markdown",
   "id": "ad54db24",
   "metadata": {},
   "source": [
    "## Step 2: policy experiment"
   ]
  },
  {
   "cell_type": "markdown",
   "id": "89497609",
   "metadata": {},
   "source": [
    "Please think of 1 or 2 fiscal policies you are interested in experimenting. Please first describe the policy using math, and then compute and plot the transition paths using the \"wrapper\" function you define in step 1."
   ]
  },
  {
   "cell_type": "markdown",
   "id": "3df68a16",
   "metadata": {},
   "source": [
    "Please add several lines to discuss the transition paths you compute: why the economy transitions in this way? What are the long-run and short-run policy impacts? Do some cohorts benefit, and do some cohorts suffer?"
   ]
  },
  {
   "cell_type": "markdown",
   "id": "3863fccd",
   "metadata": {},
   "source": [
    "### Policy 1\n",
    "\n",
    "Describe your policy in math:\n"
   ]
  },
  {
   "cell_type": "code",
   "execution_count": 4,
   "id": "9b2687bc",
   "metadata": {},
   "outputs": [],
   "source": [
    "# run policy experiment 1\n"
   ]
  },
  {
   "cell_type": "markdown",
   "id": "88b877d6",
   "metadata": {},
   "source": [
    "Your intepretation:\n"
   ]
  },
  {
   "cell_type": "markdown",
   "id": "9dc9cbef",
   "metadata": {},
   "source": [
    "Add cells for policy 2 if you want to."
   ]
  },
  {
   "cell_type": "markdown",
   "id": "de869b6c",
   "metadata": {},
   "source": [
    "## Step 3: A general way of computing transition path"
   ]
  },
  {
   "cell_type": "markdown",
   "id": "13deb21a",
   "metadata": {},
   "source": [
    "In the class, we have learnt that usually we won't have closed form solutions for computing transition paths. But in the spirit of the definition of the competitive equilibrium transition path, we can solve for the paths by iterating over guesses of prices and tax rates, and the solution can be found numerically as a fixed point."
   ]
  },
  {
   "cell_type": "markdown",
   "id": "09a2d888",
   "metadata": {},
   "source": [
    "Please write out the definition of the equilibrium for the two-period life cycle model as we studied in class:"
   ]
  },
  {
   "cell_type": "markdown",
   "id": "0b16fe32",
   "metadata": {},
   "source": [
    "A competitive equilibrium is characterized by:\n",
    "\n",
    "such that\n"
   ]
  },
  {
   "cell_type": "markdown",
   "id": "44a5d7bc",
   "metadata": {},
   "source": [
    "Please write out the pseudo code for finding the equilibrium paths as a fixed point:"
   ]
  },
  {
   "cell_type": "markdown",
   "id": "82634f29",
   "metadata": {},
   "source": []
  },
  {
   "cell_type": "markdown",
   "id": "8340db00",
   "metadata": {},
   "source": [
    "Please define two similar wrapper functions as you did in step 1 by modifying the code from the \"dynamic_fiscal_policy_two_period\" notebook, and call them `iter_path_CobbDouglas` and `iter_exper_CobbDouglas`."
   ]
  },
  {
   "cell_type": "markdown",
   "id": "3a37d26f",
   "metadata": {},
   "source": [
    "Please start with copying and pasting the utility function `U` and \"$C_y$ specific\" utility function `Cy_val` which will be used a maximand."
   ]
  },
  {
   "cell_type": "code",
   "execution_count": null,
   "id": "3d0015c6",
   "metadata": {},
   "outputs": [],
   "source": [
    "@njit\n",
    "def U(...):\n",
    "\n",
    "    return"
   ]
  },
  {
   "cell_type": "code",
   "execution_count": null,
   "id": "b9a017fb",
   "metadata": {},
   "outputs": [],
   "source": [
    "@njit\n",
    "def Cy_val(...):\n",
    "\n",
    "    return"
   ]
  },
  {
   "cell_type": "markdown",
   "id": "164411a0",
   "metadata": {},
   "source": [
    "And define the two wrapper functions, which return and plot the equilibrium transition paths given a fiscal policy experiment."
   ]
  },
  {
   "cell_type": "code",
   "execution_count": null,
   "id": "d0cc3ab0",
   "metadata": {},
   "outputs": [],
   "source": [
    "@njit\n",
    "def iter_path_CobbDouglas(...):\n",
    "\n",
    "    return quant_seq, price_seq, policy_seq"
   ]
  },
  {
   "cell_type": "code",
   "execution_count": null,
   "id": "be25ac36",
   "metadata": {},
   "outputs": [],
   "source": [
    "def iter_exper_CobbDouglas(...):\n",
    "\n",
    "    quant_seq, price_seq, policy_seq = iter_path_CobbDouglas\n",
    "\n",
    "    fig, axs = plt.subplots(3, 3, figsize=(14, 10))\n",
    "\n",
    "    return None"
   ]
  },
  {
   "cell_type": "markdown",
   "id": "ba3059aa",
   "metadata": {},
   "source": [
    "Please demonstrate that your code works below, by showing the transition paths driven by the one-period tax cut experiment we studied in class."
   ]
  },
  {
   "cell_type": "code",
   "execution_count": null,
   "id": "6a5c0c42",
   "metadata": {},
   "outputs": [],
   "source": []
  },
  {
   "cell_type": "markdown",
   "id": "2eb7d2af",
   "metadata": {},
   "source": [
    "Now, let's modify the lifetime utility function to be $U_t(C_{y,t}, C_{o,t+1}) = u(C_{y,t}) + \\beta u(C_{o,t+1})$ where $u(c) = \\log(c)$ is the flow utility in one period. Please define a wrapper function `iter_path_time_separable` that solves for the transition paths using this utility functional form, and keeping anything else the same as in `iter_path_CobbDouglas`. You don't have to plot the transition paths for now."
   ]
  },
  {
   "cell_type": "markdown",
   "id": "d626e35a",
   "metadata": {},
   "source": [
    "You may start with defining the flow utility function $u\\left(c\\right)$."
   ]
  },
  {
   "cell_type": "code",
   "execution_count": null,
   "id": "1485edf0",
   "metadata": {},
   "outputs": [],
   "source": [
    "@njit\n",
    "def u(c):\n",
    "\n",
    "    return"
   ]
  },
  {
   "cell_type": "markdown",
   "id": "d64da6be",
   "metadata": {},
   "source": [
    "And define the new \"C_y specific\" lifetime utility function `Cy_val2`"
   ]
  },
  {
   "cell_type": "code",
   "execution_count": null,
   "id": "ae2a165f",
   "metadata": {},
   "outputs": [],
   "source": [
    "@njit\n",
    "def Cy_val2(...):\n",
    "\n",
    "    return"
   ]
  },
  {
   "cell_type": "code",
   "execution_count": null,
   "id": "67fc6bdc",
   "metadata": {},
   "outputs": [],
   "source": [
    "@njit\n",
    "def iter_path_time_separable(...):\n",
    "\n",
    "    return quant_seq, price_seq, policy_seq"
   ]
  },
  {
   "cell_type": "code",
   "execution_count": null,
   "id": "4a744814",
   "metadata": {},
   "outputs": [],
   "source": [
    "# execute `iter_path_time_separable` and store the returned results\n",
    "# name the returned results as quant_seq1, price_seq1, policy_seq1\n"
   ]
  },
  {
   "cell_type": "markdown",
   "id": "9f5062c4",
   "metadata": {},
   "source": [
    "Let's now characterize the single agent problem using value functions and Bellman equations."
   ]
  },
  {
   "cell_type": "markdown",
   "id": "ace29128",
   "metadata": {},
   "source": [
    "Let $V_{y,t}$ be the value for the young at time $t$. The young at time $t$ chooses optimal consumption $C_{y,t}$ and saving $A_{t+1}^p$\n",
    "\n",
    "$$\n",
    "V_{y,t}=\\max_{C_{y,t},A_{t+1}^{p}}u\\left(C_{y,t}\\right)+\\beta V_{o,t+1}\\left(A_{t+1}^{p}\\right) \\\\\n",
    "s.t.\\quad C_{y,t}+A_{t+1}^{p}=\\left(1-\\tau_{t}\\right)W_{t}\n",
    "$$\n",
    "\n",
    "And let $V_{o,t}\\left(a\\right)$ be the value function for the old given asset level $a$\n",
    "\n",
    "$$\n",
    "V_{o,t}\\left(a\\right)=u\\left(C_{o,t}\\right) \\\\\n",
    "s.t.\\quad C_{o,t}=a\\left(1+r_{t}\\left(1-\\tau_{t}\\right)\\right)\n",
    "$$"
   ]
  },
  {
   "cell_type": "markdown",
   "id": "acbc9bab",
   "metadata": {},
   "source": [
    "Please redefine the general equilibrium by incorporating the value functions."
   ]
  },
  {
   "cell_type": "markdown",
   "id": "905bce56",
   "metadata": {},
   "source": [
    "A competitive general equilibrium is characterized by:\n",
    "\n",
    "such that\n"
   ]
  },
  {
   "cell_type": "markdown",
   "id": "be083d6c",
   "metadata": {},
   "source": [
    "Also, please write out the psuedo code for solving for the transition paths numerically using value function arrays."
   ]
  },
  {
   "cell_type": "markdown",
   "id": "649eb6df",
   "metadata": {},
   "source": [
    "Psuedo code:\n"
   ]
  },
  {
   "cell_type": "markdown",
   "id": "af3caeab",
   "metadata": {},
   "source": [
    "In practice, each time we solve for the value functions given price sequences and tax rate sequence, we will solve for value functions for **the old** first and solve for the value functions for **the yound** backwards."
   ]
  },
  {
   "cell_type": "markdown",
   "id": "fad39dde",
   "metadata": {},
   "source": [
    "Please define a wrapper function `iter_path_val_func` that uses Bellman equation to find the optimal consumption and saving choices for the young, and compute the transition paths of the economy. "
   ]
  },
  {
   "cell_type": "code",
   "execution_count": null,
   "id": "79ee922f",
   "metadata": {},
   "outputs": [],
   "source": [
    "# execute `iter_path_val_func` and store the returned results\n",
    "# name the returned results as quant_seq2, price_seq2, policy_seq2\n"
   ]
  },
  {
   "cell_type": "markdown",
   "id": "2fc6d8bb",
   "metadata": {},
   "source": [
    "Please compare below that `quant_seq2`, `price_seq2`, `policy_seq2` are the same as `quant_seq1`, `price_seq1`, `policy_seq1` (based on 1e-5 precision)."
   ]
  },
  {
   "cell_type": "code",
   "execution_count": null,
   "id": "4bdf0385",
   "metadata": {},
   "outputs": [],
   "source": []
  },
  {
   "cell_type": "markdown",
   "id": "68b7ec3f",
   "metadata": {},
   "source": [
    "## An extended case with labor productivity shocks"
   ]
  },
  {
   "cell_type": "markdown",
   "id": "5e540641",
   "metadata": {},
   "source": [
    "Let's extend the model now by adding labor productivity shocks. We will also adopt the assumption that workers will work in two periods as young and old, and in each period they supply a half unit of labor supply. Given the assumption that the population measure of each generation is $1$, the aggregate labor supply of the economy in each period will stay at $1$.\n",
    "\n",
    "Let's assume that there are two types of workers indexed by $l$. We have low efficiency workers with $l=L$ and high efficiency workers with $l=H$. The efficiency units are given by $\\gamma^{L}=0.5$ and $\\gamma^{H}=1.5$.\n",
    "\n",
    "Therefore, the labor income at time $t$ for a worker with efficiency type $l$, regardless of being young or old, is given by\n",
    "\n",
    "$$\n",
    "\\frac{1}{2} \\left(1-\\tau_{t}\\right)\\gamma^{l}W_{t}\n",
    "$$"
   ]
  },
  {
   "cell_type": "markdown",
   "id": "c7455362",
   "metadata": {},
   "source": [
    "Let's assume that the initial distribution over efficiency types when new generations are born is given by $\\pi_0 = \\left[\\pi^L, \\pi^H\\right]=\\left[0.5, 0.5\\right]$, and also the efficiency transitions from being young to old following a Markov process, such that\n",
    "\n",
    "$$P^L = P^H = \\left[0.5, 0.5\\right]$$\n"
   ]
  },
  {
   "cell_type": "markdown",
   "id": "84929e67",
   "metadata": {},
   "source": [
    "Please write out the Bellman equation for the young and the old at time $t$, taking prices and tax rates as given"
   ]
  },
  {
   "cell_type": "markdown",
   "id": "263b0104",
   "metadata": {},
   "source": [
    "Let $V_{y,t}$ be the value function of the young of efficiency type $l$ at time $t$,\n"
   ]
  },
  {
   "cell_type": "markdown",
   "id": "ad17edfc",
   "metadata": {},
   "source": [
    "Let $V_{o,t}$ be the value function of the old of efficiency type $l$ at time $t$ and given asset level $a$,\n"
   ]
  },
  {
   "cell_type": "markdown",
   "id": "c0e71941",
   "metadata": {},
   "source": [
    "If there is any expectation involved in your Bellman equation, write out explicitly below."
   ]
  },
  {
   "cell_type": "markdown",
   "id": "c347b679",
   "metadata": {},
   "source": [
    "The expectation of the continuation value is given by\n"
   ]
  },
  {
   "cell_type": "markdown",
   "id": "84d8bfe8",
   "metadata": {},
   "source": [
    "Please define the wrapper functions `iter_path_eff_shock` and `iter_exper_eff_shock` to solve for transition paths."
   ]
  },
  {
   "cell_type": "code",
   "execution_count": null,
   "id": "ad499163",
   "metadata": {},
   "outputs": [],
   "source": [
    "@njit\n",
    "def iter_path_eff_shock(...):\n",
    "\n",
    "    return "
   ]
  },
  {
   "cell_type": "code",
   "execution_count": null,
   "id": "833f7b4c",
   "metadata": {},
   "outputs": [],
   "source": [
    "def iter_exper_eff_shock(...):\n",
    "\n",
    "    quant_seq, price_seq, policy_seq = iter_path_eff_shock\n",
    "\n",
    "    fig, axs = plt.subplots(3, 3, figsize=(14, 10))\n",
    "\n",
    "    return None"
   ]
  },
  {
   "cell_type": "markdown",
   "id": "9f39b0df",
   "metadata": {},
   "source": [
    "Please demonstrate the computed transition paths in two cases.\n",
    "\n",
    "In case 1, we will consider the exactly the same one-period tax cut experiment. In case 2, please propose a fiscal policy experiment by yourself. Make sure that the fiscal policy experiment is chosen such that the economy will converge to a new steady state.\n",
    "\n",
    "In both cases, please use the wrapper function you defined above to plot the results, and interpret the results in words."
   ]
  },
  {
   "cell_type": "markdown",
   "id": "301a6093",
   "metadata": {},
   "source": [
    "Case 1:\n"
   ]
  },
  {
   "cell_type": "code",
   "execution_count": null,
   "id": "442f1b16",
   "metadata": {},
   "outputs": [],
   "source": []
  },
  {
   "cell_type": "markdown",
   "id": "a9e48ae0",
   "metadata": {},
   "source": [
    "Case 2:\n"
   ]
  },
  {
   "cell_type": "code",
   "execution_count": null,
   "id": "7612f2e0",
   "metadata": {},
   "outputs": [],
   "source": []
  }
 ],
 "metadata": {
  "kernelspec": {
   "display_name": "Python 3 (ipykernel)",
   "language": "python",
   "name": "python3"
  },
  "language_info": {
   "codemirror_mode": {
    "name": "ipython",
    "version": 3
   },
   "file_extension": ".py",
   "mimetype": "text/x-python",
   "name": "python",
   "nbconvert_exporter": "python",
   "pygments_lexer": "ipython3",
   "version": "3.10.9"
  }
 },
 "nbformat": 4,
 "nbformat_minor": 5
}
