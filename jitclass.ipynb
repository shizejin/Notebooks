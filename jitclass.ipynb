{
 "cells": [
  {
   "cell_type": "code",
   "execution_count": 1,
   "metadata": {},
   "outputs": [],
   "source": [
    "from numba import njit, jitclass, prange\n",
    "import numba\n",
    "import numpy as np"
   ]
  },
  {
   "cell_type": "markdown",
   "metadata": {},
   "source": [
    "### How to nest numba jitclass\n",
    "https://stackoverflow.com/questions/38682260/how-to-nest-numba-jitclass\n",
    "\n",
    "### Make it possible to annotate method from a jitclass (e.g. parallel = True)\n",
    "https://github.com/numba/numba/issues/3417\n",
    "\n",
    "### __init__ is mandatory for `jitclass`\n",
    "https://github.com/numba/numba/issues/2167"
   ]
  },
  {
   "cell_type": "code",
   "execution_count": 2,
   "metadata": {},
   "outputs": [],
   "source": [
    "# define log utility class\n",
    "\n",
    "@jitclass([])\n",
    "class LogUtility(object):\n",
    "\n",
    "    # __init__ is mandatory in `jitclass`\n",
    "    def __init__(self):\n",
    "        None\n",
    "\n",
    "    def U(self, a):\n",
    "        return np.log(a)\n",
    "\n",
    "    def dU(self, a):\n",
    "        return 1/a\n",
    "    \n",
    "# compile the method beforehand\n",
    "@njit\n",
    "def inverse(a):\n",
    "    return 1/a\n",
    "\n",
    "@njit\n",
    "def jitted_log(a):\n",
    "    return np.log(a)\n",
    "\n",
    "@jitclass([])\n",
    "class LogUtility_jitted(object):\n",
    "\n",
    "    # __init__ is mandatory in `jitclass`\n",
    "    def __init__(self):\n",
    "        None\n",
    "\n",
    "    def U(self, a):\n",
    "        return jitted_log(a)\n",
    "\n",
    "    def dU(self, a):\n",
    "        return inverse(a)"
   ]
  },
  {
   "cell_type": "code",
   "execution_count": 3,
   "metadata": {},
   "outputs": [
    {
     "data": {
      "text/plain": [
       "(0.6931471805599453, 0.5)"
      ]
     },
     "execution_count": 3,
     "metadata": {},
     "output_type": "execute_result"
    }
   ],
   "source": [
    "u = LogUtility()\n",
    "u.U(2.), u.dU(2.)"
   ]
  },
  {
   "cell_type": "code",
   "execution_count": 4,
   "metadata": {},
   "outputs": [
    {
     "data": {
      "text/plain": [
       "(0.6931471805599453, 0.5)"
      ]
     },
     "execution_count": 4,
     "metadata": {},
     "output_type": "execute_result"
    }
   ],
   "source": [
    "u_jitted = LogUtility_jitted()\n",
    "u_jitted.U(2.), u_jitted.dU(2.)"
   ]
  },
  {
   "cell_type": "code",
   "execution_count": 5,
   "metadata": {},
   "outputs": [
    {
     "name": "stdout",
     "output_type": "stream",
     "text": [
      "900 ns ± 13 ns per loop (mean ± std. dev. of 7 runs, 1000000 loops each)\n"
     ]
    }
   ],
   "source": [
    "%timeit u.U(2.)"
   ]
  },
  {
   "cell_type": "code",
   "execution_count": 6,
   "metadata": {},
   "outputs": [
    {
     "name": "stdout",
     "output_type": "stream",
     "text": [
      "924 ns ± 15.5 ns per loop (mean ± std. dev. of 7 runs, 1000000 loops each)\n"
     ]
    }
   ],
   "source": [
    "%timeit u_jitted.U(2.)"
   ]
  },
  {
   "cell_type": "code",
   "execution_count": 7,
   "metadata": {},
   "outputs": [
    {
     "name": "stdout",
     "output_type": "stream",
     "text": [
      "886 ns ± 29.2 ns per loop (mean ± std. dev. of 7 runs, 1000000 loops each)\n"
     ]
    }
   ],
   "source": [
    "%timeit u.dU(2.)"
   ]
  },
  {
   "cell_type": "code",
   "execution_count": 8,
   "metadata": {},
   "outputs": [
    {
     "name": "stdout",
     "output_type": "stream",
     "text": [
      "902 ns ± 26.3 ns per loop (mean ± std. dev. of 7 runs, 1000000 loops each)\n"
     ]
    }
   ],
   "source": [
    "%timeit u_jitted.dU(2.)"
   ]
  },
  {
   "cell_type": "markdown",
   "metadata": {},
   "source": [
    "### There is no difference between using njit or unjitted function in a njit-class!\n",
    "### Methods of a njit class will be compiled as njit function."
   ]
  },
  {
   "cell_type": "code",
   "execution_count": 9,
   "metadata": {},
   "outputs": [],
   "source": [
    "# get the type of LogUtility class\n",
    "utility_type = numba.deferred_type()\n",
    "utility_type.define(LogUtility.class_type.instance_type)"
   ]
  },
  {
   "cell_type": "code",
   "execution_count": 10,
   "metadata": {},
   "outputs": [],
   "source": [
    "nb_int, nb_float = numba.typeof(0), numba.typeof(0.)\n",
    "\n",
    "spec = [\n",
    "    ('a', nb_int),               # a simple scalar field\n",
    "    ('b', nb_float),          # an array field\n",
    "    ('utility', utility_type)\n",
    "]\n",
    "\n",
    "@jitclass(spec)\n",
    "class model(object):\n",
    "    def __init__(self, a, b, c):\n",
    "        self.a = a\n",
    "        self.b = b\n",
    "        self.utility = c\n",
    "\n",
    "    def create(self):\n",
    "        return np.arange(self.a, self.b)"
   ]
  },
  {
   "cell_type": "code",
   "execution_count": 11,
   "metadata": {
    "scrolled": false
   },
   "outputs": [],
   "source": [
    "a = model(1, 4., u)"
   ]
  },
  {
   "cell_type": "code",
   "execution_count": 12,
   "metadata": {},
   "outputs": [
    {
     "data": {
      "text/plain": [
       "(0.6931471805599453, 0.5)"
      ]
     },
     "execution_count": 12,
     "metadata": {},
     "output_type": "execute_result"
    }
   ],
   "source": [
    "a.utility.U(2.), a.utility.dU(2.)"
   ]
  },
  {
   "cell_type": "code",
   "execution_count": 13,
   "metadata": {},
   "outputs": [
    {
     "data": {
      "text/plain": [
       "array([1., 2., 3.])"
      ]
     },
     "execution_count": 13,
     "metadata": {},
     "output_type": "execute_result"
    }
   ],
   "source": [
    "a.create()"
   ]
  },
  {
   "cell_type": "code",
   "execution_count": 14,
   "metadata": {},
   "outputs": [],
   "source": [
    "# define a njit function that takes jitclass as argument\n",
    "\n",
    "@njit\n",
    "def f(model):\n",
    "    \n",
    "    print(model.a, model.b)\n",
    "    print(model.utility.U(2.), model.utility.dU(2.))\n",
    "    print(model.create())"
   ]
  },
  {
   "cell_type": "code",
   "execution_count": 15,
   "metadata": {},
   "outputs": [
    {
     "name": "stdout",
     "output_type": "stream",
     "text": [
      "1 4.0\n",
      "0.6931471805599453 0.5\n",
      "[1. 2. 3.]\n"
     ]
    }
   ],
   "source": [
    "f(a)"
   ]
  },
  {
   "cell_type": "code",
   "execution_count": null,
   "metadata": {},
   "outputs": [],
   "source": []
  }
 ],
 "metadata": {
  "kernelspec": {
   "display_name": "Python 3",
   "language": "python",
   "name": "python3"
  },
  "language_info": {
   "codemirror_mode": {
    "name": "ipython",
    "version": 3
   },
   "file_extension": ".py",
   "mimetype": "text/x-python",
   "name": "python",
   "nbconvert_exporter": "python",
   "pygments_lexer": "ipython3",
   "version": "3.7.3"
  }
 },
 "nbformat": 4,
 "nbformat_minor": 2
}
