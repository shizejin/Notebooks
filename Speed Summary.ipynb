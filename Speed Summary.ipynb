{
 "cells": [
  {
   "cell_type": "code",
   "execution_count": 1,
   "metadata": {},
   "outputs": [],
   "source": [
    "import os\n",
    "import re\n",
    "import time"
   ]
  },
  {
   "cell_type": "code",
   "execution_count": 2,
   "metadata": {},
   "outputs": [],
   "source": [
    "path = \"/Users/zejinshi/lecture-source-py/_build/jupyter\""
   ]
  },
  {
   "cell_type": "code",
   "execution_count": 3,
   "metadata": {
    "scrolled": false
   },
   "outputs": [],
   "source": [
    "%%capture\n",
    "for file in os.listdir(path):\n",
    "    if \".ipynb\" in file:\n",
    "        get_ipython().system('jupyter nbconvert --to python ' + os.path.join(path, file))"
   ]
  },
  {
   "cell_type": "code",
   "execution_count": 4,
   "metadata": {},
   "outputs": [],
   "source": [
    "# delete files which have the same name as crucial packages\n",
    "get_ipython().system(\"rm \" + os.path.join(path, \"numpy.py\"))\n",
    "get_ipython().system(\"rm \" + os.path.join(path, \"scipy.py\"))\n",
    "get_ipython().system(\"rm \" + os.path.join(path, \"numba.py\"))\n",
    "get_ipython().system(\"rm \" + os.path.join(path, \"matplotlib.py\"))"
   ]
  },
  {
   "cell_type": "code",
   "execution_count": 5,
   "metadata": {},
   "outputs": [],
   "source": [
    "# disable \"get_python\"\n",
    "for file in os.listdir(path):\n",
    "    if \".py\" in file:\n",
    "        with open(os.path.join(path, file),'r+') as f:\n",
    "            #convert to string:\n",
    "            data = f.read()\n",
    "            f.seek(0)\n",
    "            f.write(re.sub(r\"get_ipython()\",r\"# get_ipython()\",data))\n",
    "            f.truncate()"
   ]
  },
  {
   "cell_type": "code",
   "execution_count": 7,
   "metadata": {},
   "outputs": [],
   "source": [
    "%%capture\n",
    "# run all the files and record the running time\n",
    "time_dict = {}\n",
    "for file in os.listdir(path):\n",
    "    if \".py\" in file:\n",
    "        a = time.time()\n",
    "        get_ipython().system('python ' + os.path.join(path, f'{file}'))\n",
    "        b = time.time()\n",
    "        \n",
    "        time_dict[file] = b - a"
   ]
  },
  {
   "cell_type": "code",
   "execution_count": 14,
   "metadata": {},
   "outputs": [
    {
     "name": "stdout",
     "output_type": "stream",
     "text": [
      "amss.py                                  : 1080.457499742508\n",
      "amss3.py                                 : 401.2437198162079\n",
      "chang_ramsey.py                          : 147.79294109344482\n",
      "chang_credible.py                        : 146.86221194267273\n",
      "amss2.py                                 : 105.615895986557\n",
      "black_litterman.py                       : 81.65234804153442\n",
      "ifp.py                                   : 71.96747779846191\n",
      "opt_tax_recur.py                         : 39.3528048992157\n",
      "odu.py                                   : 27.35851502418518\n",
      "mccall_model_with_separation.py          : 23.603357315063477\n",
      "jv.py                                    : 23.217673301696777\n",
      "additive_functionals.py                  : 14.09458613395691\n",
      "optgrowth.py                             : 13.499306917190552\n",
      "coleman_policy_iter.py                   : 12.72952389717102\n",
      "mccall_model.py                          : 11.885455846786499\n",
      "lake_model.py                            : 10.28187894821167\n",
      "aiyagari.py                              : 10.253728866577148\n",
      "lln_clt.py                               : 10.251622915267944\n",
      "career.py                                : 9.539361000061035\n",
      "stationary_densities.py                  : 9.531342267990112\n",
      "cass_koopmans.py                         : 9.121596813201904\n",
      "wald_friedman.py                         : 6.8557939529418945\n",
      "lucas_model.py                           : 5.851200103759766\n",
      "multiplicative_functionals.py            : 5.610974073410034\n",
      "egm_policy_iter.py                       : 5.570937871932983\n",
      "dyn_stack.py                             : 4.277194976806641\n",
      "arma.py                                  : 4.193974018096924\n",
      "discrete_dp.py                           : 4.133425951004028\n",
      "samuelson.py                             : 4.056603908538818\n",
      "kalman.py                                : 3.924031972885132\n",
      "finite_markov.py                         : 3.195713996887207\n",
      "calvo.py                                 : 3.177961826324463\n",
      "perm_income.py                           : 3.1687533855438232\n",
      "von_neumann_model.py                     : 3.1253089904785156\n",
      "markov_asset.py                          : 2.902390956878662\n",
      "perm_income_cons.py                      : 2.852551221847534\n",
      "schelling.py                             : 2.831475019454956\n",
      "linear_models.py                         : 2.790411949157715\n",
      "estspec.py                               : 2.733522891998291\n",
      "smoothing.py                             : 2.676859140396118\n",
      "permanent_income_dles.py                 : 2.6593449115753174\n",
      "complex_and_trig.py                      : 2.597395896911621\n",
      "muth_kalman.py                           : 2.5829360485076904\n",
      "lqramsey.py                              : 2.4919240474700928\n",
      "linear_algebra.py                        : 2.4742348194122314\n",
      "arellano.py                              : 2.467491865158081\n",
      "growth_in_dles.py                        : 2.4449498653411865\n",
      "python_oop.py                            : 2.39823317527771\n",
      "rob_markov_perf.py                       : 2.282796859741211\n",
      "lqcontrol.py                             : 2.2488961219787598\n",
      "irfs_in_hall_model.py                    : 2.231950044631958\n",
      "lucas_asset_pricing_dles.py              : 2.144163131713867\n",
      "rosen_schooling_model.py                 : 2.0996150970458984\n",
      "cattle_cycles.py                         : 2.0953197479248047\n",
      "markov_perf.py                           : 2.0898380279541016\n",
      "hs_invertibility_example.py              : 2.061129093170166\n",
      "rational_expectations.py                 : 2.023392915725708\n",
      "matsuyama.py                             : 1.9963960647583008\n",
      "python_by_example.py                     : 1.9618198871612549\n",
      "lu_tricks.py                             : 1.9041268825531006\n",
      "uncertainty_traps.py                     : 1.78861403465271\n",
      "mle.py                                   : 1.6906168460845947\n",
      "writing_good_code.py                     : 1.6902010440826416\n",
      "debugging.py                             : 1.6167590618133545\n",
      "getting_started.py                       : 1.616128921508789\n",
      "about_py.py                              : 1.2857270240783691\n",
      "harrison_kreps.py                        : 1.1448040008544922\n",
      "sci_libs.py                              : 0.9422450065612793\n",
      "classical_filtering.py                   : 0.5313127040863037\n",
      "orth_proj.py                             : 0.3285682201385498\n",
      "pandas_panel.py                          : 0.3029367923736572\n",
      "ols.py                                   : 0.3024411201477051\n",
      "robustness.py                            : 0.2937638759613037\n",
      "pandas.py                                : 0.28366804122924805\n",
      "index_python_scientific_libraries.py     : 0.16963410377502441\n",
      "index_tools_and_techniques_grad.py       : 0.16097307205200195\n",
      "index_tools_and_techniques.py            : 0.16012120246887207\n",
      "index_data_and_empirics.py               : 0.16008496284484863\n",
      "index_multi_agent_models.py              : 0.15829181671142578\n",
      "index.py                                 : 0.15825390815734863\n",
      "index_postgrad.py                        : 0.15793395042419434\n",
      "index_dynamic_programming_undergrad.py   : 0.15548181533813477\n",
      "index_undergrad.py                       : 0.1554279327392578\n",
      "python_essentials.py                     : 0.15436697006225586\n",
      "index_dynamic_programming_grad.py        : 0.15392708778381348\n",
      "short_path.py                            : 0.15295791625976562\n",
      "index_learning_python.py                 : 0.15239286422729492\n",
      "index_tools_and_techniques_undergrad.py  : 0.15212488174438477\n",
      "index_asset_pricing_grad.py              : 0.15175390243530273\n",
      "index_dynamic_programming_squared.py     : 0.15143489837646484\n",
      "python_advanced_features.py              : 0.15114092826843262\n",
      "index_dynamic_programming.py             : 0.15047001838684082\n",
      "oop_intro.py                             : 0.15035390853881836\n",
      "index_hs_recursive_models.py             : 0.15016794204711914\n",
      "zreferences.py                           : 0.14980602264404297\n",
      "index_classic_linear_models.py           : 0.14942193031311035\n",
      "index_time_series_models_grad.py         : 0.14904499053955078\n",
      "index_time_series_models.py              : 0.14877796173095703\n",
      "hs_recursive_models.py                   : 0.14824676513671875\n",
      "index_multi_agent_models_undergrad.py    : 0.14750123023986816\n",
      "index_asset_pricing.py                   : 0.14670801162719727\n",
      "index_multi_agent_models_grad.py         : 0.1461639404296875\n",
      "index_advanced_python_programming.py     : 0.1459672451019287\n",
      "index_asset_pricing_undergrad.py         : 0.14351701736450195\n"
     ]
    }
   ],
   "source": [
    "for file, time in sorted(time_dict.items(), key=lambda x: x[1], reverse=True):\n",
    "    print('{0: <40}'.format(file) + \" : \" + str(time_dict[file]))"
   ]
  },
  {
   "cell_type": "code",
   "execution_count": null,
   "metadata": {},
   "outputs": [],
   "source": []
  }
 ],
 "metadata": {
  "kernelspec": {
   "display_name": "Python 3",
   "language": "python",
   "name": "python3"
  },
  "language_info": {
   "codemirror_mode": {
    "name": "ipython",
    "version": 3
   },
   "file_extension": ".py",
   "mimetype": "text/x-python",
   "name": "python",
   "nbconvert_exporter": "python",
   "pygments_lexer": "ipython3",
   "version": "3.7.3"
  }
 },
 "nbformat": 4,
 "nbformat_minor": 2
}
