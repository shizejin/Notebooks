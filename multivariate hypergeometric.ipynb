{
 "cells": [
  {
   "cell_type": "code",
   "execution_count": 1,
   "metadata": {},
   "outputs": [],
   "source": [
    "import numpy as np\n",
    "from scipy.special import comb"
   ]
  },
  {
   "cell_type": "code",
   "execution_count": 2,
   "metadata": {},
   "outputs": [],
   "source": [
    "def multi_hypergeom_pmf(k_arr, K_arr):\n",
    "    \"\"\"\n",
    "    Probability mass function of multivariate hypergeometric distribution,\n",
    "    which compute the probability of observing the number of successes of \n",
    "    drawing each type i object k_arr = (k_1, k_2, ..., k_c) from a finite population\n",
    "    of size N without replacement where the total number of each type i object\n",
    "    is given by K_arr = (K_1, K_2, ..., K_c). The number of total draws is implicitly\n",
    "    given as n = k_1 + k_2 + ... + k_c.\n",
    "    \"\"\"\n",
    "\n",
    "    k_arr = np.atleast_2d(k_arr)\n",
    "    K_arr = np.atleast_2d(K_arr)\n",
    "\n",
    "    n = np.sum(k_arr, 1)\n",
    "    N = np.sum(K_arr, 1)\n",
    "\n",
    "    num = np.prod(comb(K_arr, k_arr), 1)\n",
    "    denom = comb(N, n)\n",
    "\n",
    "    pr = num / denom\n",
    "\n",
    "    return pr"
   ]
  },
  {
   "cell_type": "markdown",
   "metadata": {},
   "source": [
    "### Usage"
   ]
  },
  {
   "cell_type": "markdown",
   "metadata": {},
   "source": [
    "Apply this to the example from [wiki](https://en.wikipedia.org/wiki/Hypergeometric_distribution#Multivariate_hypergeometric_distribution):\n",
    "\n",
    "Suppose there are 5 black, 10 white, and 15 red marbles in an urn. If six marbles are chosen without replacement, the probability that exactly two of each color are chosen is\n",
    "\n",
    "$$\n",
    "P(2{\\text{ black}},2{\\text{ white}},2{\\text{ red}})={{{5 \\choose 2}{10 \\choose 2}{15 \\choose 2}} \\over {30 \\choose 6}}=0.079575596816976\n",
    "$$"
   ]
  },
  {
   "cell_type": "code",
   "execution_count": 3,
   "metadata": {},
   "outputs": [],
   "source": [
    "# define the array of total number of marbles with different colors\n",
    "K_arr = [5, 10, 15]"
   ]
  },
  {
   "cell_type": "code",
   "execution_count": 4,
   "metadata": {},
   "outputs": [
    {
     "data": {
      "text/plain": [
       "array([0.0795756])"
      ]
     },
     "execution_count": 4,
     "metadata": {},
     "output_type": "execute_result"
    }
   ],
   "source": [
    "k_arr = [2, 2, 2] # array of number of successes\n",
    "multi_hypergeom_pmf(k_arr, K_arr)"
   ]
  },
  {
   "cell_type": "markdown",
   "metadata": {},
   "source": [
    "If we observe for more than one time, we can construct a 2-dimensional array `k_arr` and `multi_hypergeom_pmf` will return an array of probabilities for observing each case."
   ]
  },
  {
   "cell_type": "code",
   "execution_count": 5,
   "metadata": {},
   "outputs": [
    {
     "data": {
      "text/plain": [
       "array([0.0795756, 0.1061008])"
      ]
     },
     "execution_count": 5,
     "metadata": {},
     "output_type": "execute_result"
    }
   ],
   "source": [
    "k_arr = [[2, 2, 2], [1, 3, 2]]\n",
    "multi_hypergeom_pmf(k_arr, K_arr)"
   ]
  },
  {
   "cell_type": "code",
   "execution_count": null,
   "metadata": {},
   "outputs": [],
   "source": []
  }
 ],
 "metadata": {
  "kernelspec": {
   "display_name": "Python 3",
   "language": "python",
   "name": "python3"
  },
  "language_info": {
   "codemirror_mode": {
    "name": "ipython",
    "version": 3
   },
   "file_extension": ".py",
   "mimetype": "text/x-python",
   "name": "python",
   "nbconvert_exporter": "python",
   "pygments_lexer": "ipython3",
   "version": "3.6.5"
  }
 },
 "nbformat": 4,
 "nbformat_minor": 2
}
