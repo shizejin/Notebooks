{
 "cells": [
  {
   "cell_type": "code",
   "execution_count": 1,
   "metadata": {},
   "outputs": [
    {
     "name": "stderr",
     "output_type": "stream",
     "text": [
      "C:\\Users\\Tom\\AppData\\Roaming\\Python\\Python37\\site-packages\\numba\\np\\ufunc\\parallel.py:363: NumbaWarning: \u001b[1mThe TBB threading layer requires TBB version 2019.5 or later i.e., TBB_INTERFACE_VERSION >= 11005. Found TBB_INTERFACE_VERSION = 11004. The TBB threading layer is disabled.\u001b[0m\n",
      "  warnings.warn(problem)\n"
     ]
    }
   ],
   "source": [
    "import numpy as np\n",
    "from quantecon import solve_discrete_lyapunov"
   ]
  },
  {
   "cell_type": "code",
   "execution_count": 2,
   "metadata": {},
   "outputs": [],
   "source": [
    "A1 = np.array([[0.1, 0.2], [0, 0.8]])\n",
    "A2 = np.array([[-0.1, 0], [0.2, 0.1]])\n",
    "A3 = np.array([[0.5, 0.4], [0., 0.]])\n",
    "A4 = np.array([[0., 0.], [-1.5, 0.2]])\n",
    "\n",
    "A = np.block([[A1, A2, A3, A4],\n",
    "              [np.eye(2), np.zeros((2, 6))],\n",
    "              [np.zeros((2, 2)), np.eye(2), np.zeros((2, 4))],\n",
    "              [np.zeros((2, 4)), np.eye(2), np.zeros((2, 2))]])\n",
    "\n",
    "C = np.vstack([np.array([[1], [2]]), np.zeros((6, 1))])\n",
    "CC = C @ C.T"
   ]
  },
  {
   "cell_type": "code",
   "execution_count": 3,
   "metadata": {},
   "outputs": [
    {
     "data": {
      "text/plain": [
       "array([[nan, nan, nan, nan, nan, nan, nan, nan],\n",
       "       [nan, nan, nan, nan, nan, nan, nan, nan],\n",
       "       [nan, nan, nan, nan, nan, nan, nan, nan],\n",
       "       [nan, nan, nan, nan, nan, nan, nan, nan],\n",
       "       [nan, nan, nan, nan, nan, nan, nan, nan],\n",
       "       [nan, nan, nan, nan, nan, nan, nan, nan],\n",
       "       [nan, nan, nan, nan, nan, nan, nan, nan],\n",
       "       [nan, nan, nan, nan, nan, nan, nan, nan]])"
      ]
     },
     "execution_count": 3,
     "metadata": {},
     "output_type": "execute_result"
    }
   ],
   "source": [
    "solve_discrete_lyapunov(A, CC, method='doubling')"
   ]
  },
  {
   "cell_type": "code",
   "execution_count": 4,
   "metadata": {},
   "outputs": [
    {
     "data": {
      "text/plain": [
       "array([[ 1.80502647,  1.37886946, -1.34761736, -0.64176327, -1.57045289,\n",
       "        -2.88357296,  1.62760924,  0.24322736],\n",
       "       [ 1.37886946,  1.64585687, -1.62337262, -3.1163723 ,  0.97915889,\n",
       "        -4.40184575,  2.24453976, -2.14968201],\n",
       "       [-1.34761736, -1.62337262,  1.80502647,  1.37886946, -1.34761736,\n",
       "        -0.64176327, -1.57045289, -2.88357296],\n",
       "       [-0.64176327, -3.1163723 ,  1.37886946,  1.64585687, -1.62337262,\n",
       "        -3.1163723 ,  0.97915889, -4.40184575],\n",
       "       [-1.57045289,  0.97915889, -1.34761736, -1.62337262,  1.80502647,\n",
       "         1.37886946, -1.34761736, -0.64176327],\n",
       "       [-2.88357296, -4.40184575, -0.64176327, -3.1163723 ,  1.37886946,\n",
       "         1.64585687, -1.62337262, -3.1163723 ],\n",
       "       [ 1.62760924,  2.24453976, -1.57045289,  0.97915889, -1.34761736,\n",
       "        -1.62337262,  1.80502647,  1.37886946],\n",
       "       [ 0.24322736, -2.14968201, -2.88357296, -4.40184575, -0.64176327,\n",
       "        -3.1163723 ,  1.37886946,  1.64585687]])"
      ]
     },
     "execution_count": 4,
     "metadata": {},
     "output_type": "execute_result"
    }
   ],
   "source": [
    "solve_discrete_lyapunov(A, CC, method='bartels-stewart')"
   ]
  },
  {
   "cell_type": "markdown",
   "metadata": {},
   "source": [
    "Verify it is the correct solution."
   ]
  },
  {
   "cell_type": "code",
   "execution_count": 5,
   "metadata": {},
   "outputs": [],
   "source": [
    "Σ = solve_discrete_lyapunov(A, CC, method='bartels-stewart')"
   ]
  },
  {
   "cell_type": "code",
   "execution_count": 6,
   "metadata": {},
   "outputs": [
    {
     "data": {
      "text/plain": [
       "1.1102230246251565e-15"
      ]
     },
     "execution_count": 6,
     "metadata": {},
     "output_type": "execute_result"
    }
   ],
   "source": [
    "np.abs(A @ Σ @ A.T + CC - Σ).max()"
   ]
  },
  {
   "cell_type": "code",
   "execution_count": null,
   "metadata": {},
   "outputs": [],
   "source": []
  }
 ],
 "metadata": {
  "kernelspec": {
   "display_name": "Python 3",
   "language": "python",
   "name": "python3"
  },
  "language_info": {
   "codemirror_mode": {
    "name": "ipython",
    "version": 3
   },
   "file_extension": ".py",
   "mimetype": "text/x-python",
   "name": "python",
   "nbconvert_exporter": "python",
   "pygments_lexer": "ipython3",
   "version": "3.7.4"
  }
 },
 "nbformat": 4,
 "nbformat_minor": 2
}
