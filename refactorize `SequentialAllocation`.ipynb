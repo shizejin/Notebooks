{
 "cells": [
  {
   "cell_type": "code",
   "execution_count": 1,
   "metadata": {},
   "outputs": [
    {
     "name": "stderr",
     "output_type": "stream",
     "text": [
      "C:\\Users\\Tom\\AppData\\Roaming\\Python\\Python37\\site-packages\\numba\\np\\ufunc\\parallel.py:363: NumbaWarning: \u001b[1mThe TBB threading layer requires TBB version 2019.5 or later i.e., TBB_INTERFACE_VERSION >= 11005. Found TBB_INTERFACE_VERSION = 11004. The TBB threading layer is disabled.\u001b[0m\n",
      "  warnings.warn(problem)\n"
     ]
    }
   ],
   "source": [
    "import numpy as np\n",
    "import matplotlib.pyplot as plt\n",
    "%matplotlib inline\n",
    "import numpy as np\n",
    "from scipy.optimize import root\n",
    "from quantecon import MarkovChain"
   ]
  },
  {
   "cell_type": "markdown",
   "metadata": {},
   "source": [
    "This notebook refactorizes the code for solving the sequential allocation problems in the [quantecon lecture](https://python-advanced.quantecon.org/opt_tax_recur.html). The code is improved in mainly three aspects:"
   ]
  },
  {
   "cell_type": "markdown",
   "metadata": {},
   "source": [
    "1. readability: improve the consistency between the code and the math in the lecture\n",
    "    1. math notations of model parameters and variables\n",
    "    2. the computation is now closely following the \"computational algorithm\" described in the lecture\n",
    "2. efficiency: reducing the dimension of root finding when solving FOCs\n",
    "    1. change the root to find from $\\left[c, n, \\Xi\\right]$ to just $\\left[ c \\right]$\n",
    "    2. remove the redundant computations that are actually not used in the lecture\n",
    "3. minor issues: make the design of Python classes more reasonable\n",
    "    1. moving the attributes $\\pi$ and $g$ from class `CRRAutility` to `SequentialAllocation` since the government expenditure and the state transition matrix is irrelevant with the preference, but are characteristics of the sequential allocation problems."
   ]
  },
  {
   "cell_type": "markdown",
   "metadata": {},
   "source": [
    "In the following, I will present:\n",
    "\n",
    "1. the original code and the refactorized code\n",
    "2. a section that verifies the refactorized code by replications\n",
    "    1. verify that the quantities given by the original and refactorized code are the same\n",
    "    2. verify that we can generate the same figure as in the lecture using the refactorized code\n",
    "    3. verify that the solutions to a bunch of randomly generated sequential allocation problems given by two verisons of code are identical\n",
    "2. a section demonstrates the improvement in speed\n",
    "    1. the speed is improved by almost 20 to 30 percent"
   ]
  },
  {
   "cell_type": "markdown",
   "metadata": {},
   "source": [
    "Note that I will rename the original Python classes by adding a suffix `Old` and reserve the concise names for the refactorized classes."
   ]
  },
  {
   "cell_type": "markdown",
   "metadata": {},
   "source": [
    "# Original Code"
   ]
  },
  {
   "cell_type": "markdown",
   "metadata": {},
   "source": [
    "A \"copy and paste\" from the current [quantecon lecture](https://python-advanced.quantecon.org/opt_tax_recur.html)."
   ]
  },
  {
   "cell_type": "code",
   "execution_count": 2,
   "metadata": {},
   "outputs": [],
   "source": [
    "class SequentialAllocationOld:\n",
    "\n",
    "    '''\n",
    "    Class that takes CESutility or BGPutility object as input returns\n",
    "    planner's allocation as a function of the multiplier on the\n",
    "    implementability constraint μ.\n",
    "    '''\n",
    "\n",
    "    def __init__(self, model):\n",
    "\n",
    "        # Initialize from model object attributes\n",
    "        self.β, self.π, self.G = model.β, model.π, model.G\n",
    "        self.mc, self.Θ = MarkovChain(self.π), model.Θ\n",
    "        self.S = len(model.π)  # Number of states\n",
    "        self.model = model\n",
    "\n",
    "        # Find the first best allocation\n",
    "        self.find_first_best()\n",
    "\n",
    "    def find_first_best(self):\n",
    "        '''\n",
    "        Find the first best allocation\n",
    "        '''\n",
    "        model = self.model\n",
    "        S, Θ, G = self.S, self.Θ, self.G\n",
    "        Uc, Un = model.Uc, model.Un\n",
    "\n",
    "        def res(z):\n",
    "            c = z[:S]\n",
    "            n = z[S:]\n",
    "            return np.hstack([Θ * Uc(c, n) + Un(c, n), Θ * n - c - G])\n",
    "\n",
    "        res = root(res, 0.5 * np.ones(2 * S))\n",
    "\n",
    "        if not res.success:\n",
    "            raise Exception('Could not find first best')\n",
    "\n",
    "        self.cFB = res.x[:S]\n",
    "        self.nFB = res.x[S:]\n",
    "\n",
    "        # Multiplier on the resource constraint\n",
    "        self.ΞFB = Uc(self.cFB, self.nFB)\n",
    "        self.zFB = np.hstack([self.cFB, self.nFB, self.ΞFB])\n",
    "\n",
    "    def time1_allocation(self, μ):\n",
    "        '''\n",
    "        Computes optimal allocation for time t >= 1 for a given μ\n",
    "        '''\n",
    "        model = self.model\n",
    "        S, Θ, G = self.S, self.Θ, self.G\n",
    "        Uc, Ucc, Un, Unn = model.Uc, model.Ucc, model.Un, model.Unn\n",
    "\n",
    "        def FOC(z):\n",
    "            c = z[:S]\n",
    "            n = z[S:2 * S]\n",
    "            Ξ = z[2 * S:]\n",
    "            # FOC of c\n",
    "            return np.hstack([Uc(c, n) - μ * (Ucc(c, n) * c + Uc(c, n)) - Ξ,\n",
    "                              Un(c, n) - μ * (Unn(c, n) * n + Un(c, n)) \\\n",
    "                              + Θ * Ξ,  # FOC of n\n",
    "                              Θ * n - c - G])\n",
    "\n",
    "        # Find the root of the first-order condition\n",
    "        res = root(FOC, self.zFB)\n",
    "        if not res.success:\n",
    "            raise Exception('Could not find LS allocation.')\n",
    "        z = res.x\n",
    "        c, n, Ξ = z[:S], z[S:2 * S], z[2 * S:]\n",
    "\n",
    "        # Compute x\n",
    "        I = Uc(c, n) * c + Un(c, n) * n\n",
    "        x = np.linalg.solve(np.eye(S) - self.β * self.π, I)\n",
    "\n",
    "        return c, n, x, Ξ\n",
    "\n",
    "    def time0_allocation(self, B_, s_0):\n",
    "        '''\n",
    "        Finds the optimal allocation given initial government debt B_ and\n",
    "        state s_0\n",
    "        '''\n",
    "        model, π, Θ, G, β = self.model, self.π, self.Θ, self.G, self.β\n",
    "        Uc, Ucc, Un, Unn = model.Uc, model.Ucc, model.Un, model.Unn\n",
    "\n",
    "        # First order conditions of planner's problem\n",
    "        def FOC(z):\n",
    "            μ, c, n, Ξ = z\n",
    "            xprime = self.time1_allocation(μ)[2]\n",
    "            return np.hstack([Uc(c, n) * (c - B_) + Un(c, n) * n + β * π[s_0]\n",
    "                                            @ xprime,\n",
    "                              Uc(c, n) - μ * (Ucc(c, n)\n",
    "                                            * (c - B_) + Uc(c, n)) - Ξ,\n",
    "                              Un(c, n) - μ * (Unn(c, n) * n\n",
    "                                            + Un(c, n)) + Θ[s_0] * Ξ,\n",
    "                              (Θ * n - c - G)[s_0]])\n",
    "\n",
    "        # Find root\n",
    "        res = root(FOC, np.array(\n",
    "            [0, self.cFB[s_0], self.nFB[s_0], self.ΞFB[s_0]]))\n",
    "        if not res.success:\n",
    "            raise Exception('Could not find time 0 LS allocation.')\n",
    "\n",
    "        return res.x\n",
    "\n",
    "    def time1_value(self, μ):\n",
    "        '''\n",
    "        Find the value associated with multiplier μ\n",
    "        '''\n",
    "        c, n, x, Ξ = self.time1_allocation(μ)\n",
    "        U = self.model.U(c, n)\n",
    "        V = np.linalg.solve(np.eye(self.S) - self.β * self.π, U)\n",
    "        return c, n, x, V\n",
    "\n",
    "    def Τ(self, c, n):\n",
    "        '''\n",
    "        Computes Τ given c, n\n",
    "        '''\n",
    "        model = self.model\n",
    "        Uc, Un = model.Uc(c, n), model.Un(c,  n)\n",
    "\n",
    "        return 1 + Un / (self.Θ * Uc)\n",
    "\n",
    "    def simulate(self, B_, s_0, T, sHist=None):\n",
    "        '''\n",
    "        Simulates planners policies for T periods\n",
    "        '''\n",
    "        model, π, β = self.model, self.π, self.β\n",
    "        Uc = model.Uc\n",
    "\n",
    "        if sHist is None:\n",
    "            sHist = self.mc.simulate(T, s_0)\n",
    "\n",
    "        cHist, nHist, Bhist, ΤHist, μHist = np.zeros((5, T))\n",
    "        RHist = np.zeros(T - 1)\n",
    "\n",
    "        # Time 0\n",
    "        μ, cHist[0], nHist[0], _ = self.time0_allocation(B_, s_0)\n",
    "        ΤHist[0] = self.Τ(cHist[0], nHist[0])[s_0]\n",
    "        Bhist[0] = B_\n",
    "        μHist[0] = μ\n",
    "\n",
    "        # Time 1 onward\n",
    "        for t in range(1, T):\n",
    "            c, n, x, Ξ = self.time1_allocation(μ)\n",
    "            Τ = self.Τ(c, n)\n",
    "            u_c = Uc(c, n)\n",
    "            s = sHist[t]\n",
    "            Eu_c = π[sHist[t - 1]] @ u_c\n",
    "            cHist[t], nHist[t], Bhist[t], ΤHist[t] = c[s], n[s], x[s] / u_c[s], \\\n",
    "                                                     Τ[s]\n",
    "            RHist[t - 1] = Uc(cHist[t - 1], nHist[t - 1]) / (β * Eu_c)\n",
    "            μHist[t] = μ\n",
    "\n",
    "        return np.array([cHist, nHist, Bhist, ΤHist, sHist, μHist, RHist])"
   ]
  },
  {
   "cell_type": "code",
   "execution_count": 3,
   "metadata": {},
   "outputs": [],
   "source": [
    "class CRRAutilityOld:\n",
    "\n",
    "    def __init__(self,\n",
    "                 β=0.9,\n",
    "                 σ=2,\n",
    "                 γ=2,\n",
    "                 π=0.5*np.ones((2, 2)),\n",
    "                 G=np.array([0.1, 0.2]),\n",
    "                 Θ=np.ones(2),\n",
    "                 transfers=False):\n",
    "\n",
    "        self.β, self.σ, self.γ = β, σ, γ\n",
    "        self.π, self.G, self.Θ, self.transfers = π, G, Θ, transfers\n",
    "\n",
    "    # Utility function\n",
    "    def U(self, c, n):\n",
    "        σ = self.σ\n",
    "        if σ == 1.:\n",
    "            U = np.log(c)\n",
    "        else:\n",
    "            U = (c**(1 - σ) - 1) / (1 - σ)\n",
    "        return U - n**(1 + self.γ) / (1 + self.γ)\n",
    "\n",
    "    # Derivatives of utility function\n",
    "    def Uc(self, c, n):\n",
    "        return c**(-self.σ)\n",
    "\n",
    "    def Ucc(self, c, n):\n",
    "        return -self.σ * c**(-self.σ - 1)\n",
    "\n",
    "    def Un(self, c, n):\n",
    "        return -n**self.γ\n",
    "\n",
    "    def Unn(self, c, n):\n",
    "        return -self.γ * n**(self.γ - 1)"
   ]
  },
  {
   "cell_type": "markdown",
   "metadata": {},
   "source": [
    "# Refactorization"
   ]
  },
  {
   "cell_type": "code",
   "execution_count": 4,
   "metadata": {},
   "outputs": [],
   "source": [
    "class SequentialAllocation:\n",
    "\n",
    "    '''\n",
    "    Class that takes CESutility or BGPutility object as input returns\n",
    "    planner's allocation as a function of the multiplier on the\n",
    "    implementability constraint μ.\n",
    "    '''\n",
    "\n",
    "    def __init__(self,\n",
    "                 pref,\n",
    "                 π=0.5*np.ones((2, 2)),\n",
    "                 g=np.array([0.1, 0.2])):\n",
    "\n",
    "        # Initialize from pref object attributes\n",
    "        self.β, self.π, self.g = pref.β, π, g\n",
    "        self.mc = MarkovChain(self.π)\n",
    "        self.S = len(π)  # Number of states\n",
    "        self.pref = pref\n",
    "\n",
    "        # Find the first best allocation\n",
    "        self.find_first_best()\n",
    "\n",
    "    def FOC_first_best(self, c, g):\n",
    "\n",
    "        pref = self.pref\n",
    "        Uc, Ul = pref.Uc, pref.Ul\n",
    "\n",
    "        n = c + g\n",
    "        l = 1 - n\n",
    "\n",
    "        return Uc(c, l) - Ul(c, l)\n",
    "\n",
    "    def find_first_best(self):\n",
    "        '''\n",
    "        Find the first best allocation\n",
    "        '''\n",
    "        S, g = self.S, self.g\n",
    "\n",
    "        res = root(self.FOC_first_best, 0.5 * np.ones(S), args=(g,))\n",
    "\n",
    "        if not res.success:\n",
    "            raise Exception('Could not find first best')\n",
    "\n",
    "        self.cFB = res.x\n",
    "        self.nFB = self.cFB + g\n",
    "\n",
    "    def FOC_time1(self, c, Φ, g):\n",
    "\n",
    "        pref = self.pref\n",
    "        Uc, Ucc, Ul, Ull, Ulc = pref.Uc, pref.Ucc, pref.Ul, pref.Ull, pref.Ulc\n",
    "\n",
    "        n = c + g\n",
    "        l = 1 - n\n",
    "\n",
    "        LHS = (1 + Φ) * Uc(c, l) + Φ * (c * Ucc(c, l) - n * Ulc(c, l))\n",
    "        RHS = (1 + Φ) * Ul(c, l) + Φ * (c * Ulc(c, l) - n * Ull(c, l))\n",
    "\n",
    "        diff = LHS - RHS\n",
    "\n",
    "        return diff\n",
    "\n",
    "    def time1_allocation(self, Φ):\n",
    "        '''\n",
    "        Computes optimal allocation for time t >= 1 for a given μ\n",
    "        '''\n",
    "        pref = self.pref\n",
    "        S, g = self.S, self.g\n",
    "\n",
    "        res = root(self.FOC_time1, self.cFB, args=(Φ, g))\n",
    "\n",
    "        if not res.success:\n",
    "            raise Exception('Could not find LS allocation.')\n",
    "\n",
    "        c = res.x\n",
    "        n = c + g\n",
    "        l = 1 - n\n",
    "\n",
    "        # Compute x\n",
    "        I = pref.Uc(c, n) * c - pref.Ul(c, l) * n\n",
    "        x = np.linalg.solve(np.eye(S) - self.β * self.π, I)\n",
    "\n",
    "        return c, n, x\n",
    "\n",
    "    def FOC_time0(self, c0, Φ, g0, b0):\n",
    "\n",
    "        pref = self.pref\n",
    "        Ucc, Ulc = pref.Ucc, pref.Ulc\n",
    "\n",
    "        n0 = c0 + g0\n",
    "        l0 = 1 - n0\n",
    "\n",
    "        diff = self.FOC_time1(c0, Φ, g0)\n",
    "        diff -= Φ * (Ucc(c0, l0) - Ulc(c0, l0)) * b0\n",
    "\n",
    "        return diff\n",
    "\n",
    "    def implementability(self, Φ, b0, s0, cn0_arr):\n",
    "\n",
    "        pref, π, g, β = self.pref, self.π, self.g, self.β\n",
    "        Uc, Ul = pref.Uc, pref.Ul\n",
    "        g0 = self.g[s0]\n",
    "\n",
    "        c, n, x = self.time1_allocation(Φ)\n",
    "\n",
    "        res = root(self.FOC_time0, cn0_arr[0], args=(Φ, g0, b0))\n",
    "        c0 = res.x\n",
    "        n0 = c0 + g0\n",
    "        l0 = 1 - n0\n",
    "\n",
    "        cn0_arr[:] = c0, n0\n",
    "\n",
    "        LHS = Uc(c0, l0) * b0\n",
    "        RHS = Uc(c0, l0) * c0 - Ul(c0, l0) * n0 + β * π[s0] @ x\n",
    "\n",
    "        return RHS - LHS\n",
    "\n",
    "    def time0_allocation(self, b0, s0):\n",
    "        '''\n",
    "        Finds the optimal allocation given initial government debt B_ and\n",
    "        state s_0\n",
    "        '''\n",
    "\n",
    "        cn0_arr = np.array([self.cFB[s0], self.nFB[s0]])\n",
    "\n",
    "        res = root(self.implementability, 0, args=(b0, s0, cn0_arr))\n",
    "\n",
    "        if not res.success:\n",
    "            raise Exception('Could not find time 0 LS allocation.')\n",
    "\n",
    "        Φ = res.x[0]\n",
    "        c0, n0 = cn0_arr\n",
    "\n",
    "        return Φ, c0, n0\n",
    "\n",
    "    def time1_value(self, μ):\n",
    "        '''\n",
    "        Find the value associated with multiplier μ\n",
    "        '''\n",
    "        c, n, x = self.time1_allocation(μ)\n",
    "        U = self.pref.U(c, n)\n",
    "        V = np.linalg.solve(np.eye(self.S) - self.β * self.π, U)\n",
    "        return c, n, x, V\n",
    "\n",
    "    def τ(self, c, n):\n",
    "        '''\n",
    "        Computes τ given c, n\n",
    "        '''\n",
    "        pref = self.pref\n",
    "        Uc, Ul = pref.Uc, pref.Ul\n",
    "\n",
    "        return 1 - Ul(c, 1-n) / Uc(c, 1-n)\n",
    "\n",
    "    def simulate(self, b0, s0, T, sHist=None):\n",
    "        '''\n",
    "        Simulates planners policies for T periods\n",
    "        '''\n",
    "        pref, π, β = self.pref, self.π, self.β\n",
    "        Uc = pref.Uc\n",
    "\n",
    "        if sHist is None:\n",
    "            sHist = self.mc.simulate(T, s0)\n",
    "\n",
    "        cHist, nHist, Bhist, τHist, ΦHist = np.zeros((5, T))\n",
    "        RHist = np.zeros(T - 1)\n",
    "\n",
    "        # Time 0\n",
    "        Φ, cHist[0], nHist[0] = self.time0_allocation(b0, s0)\n",
    "        τHist[0] = self.τ(cHist[0], nHist[0])\n",
    "        Bhist[0] = b0\n",
    "        ΦHist[0] = Φ\n",
    "\n",
    "        # Time 1 onward\n",
    "        for t in range(1, T):\n",
    "            c, n, x = self.time1_allocation(Φ)\n",
    "            τ = self.τ(c, n)\n",
    "            u_c = Uc(c, n)\n",
    "            s = sHist[t]\n",
    "            Eu_c = π[sHist[t - 1]] @ u_c\n",
    "            cHist[t], nHist[t], Bhist[t], τHist[t] = c[s], n[s], x[s] / u_c[s], τ[s]\n",
    "            RHist[t - 1] = Uc(cHist[t - 1], nHist[t - 1]) / (β * Eu_c)\n",
    "            ΦHist[t] = Φ\n",
    "\n",
    "        return np.array([cHist, nHist, Bhist, τHist, sHist, ΦHist, RHist])"
   ]
  },
  {
   "cell_type": "code",
   "execution_count": 5,
   "metadata": {},
   "outputs": [],
   "source": [
    "class CRRAutility:\n",
    "\n",
    "    def __init__(self,\n",
    "                 β=0.9,\n",
    "                 σ=2,\n",
    "                 γ=2):\n",
    "\n",
    "        self.β, self.σ, self.γ = β, σ, γ\n",
    "\n",
    "        # the correspondence between the general LS notations and the CRRA notations\n",
    "        self.Uc = lambda c, l: self._Uc(c, 1-l)\n",
    "        self.Ucc = lambda c, l: self._Ucc(c, 1-l)\n",
    "        self.Ulc = lambda c, l: 0\n",
    "        self.Ul = lambda c, l: - self._Un(c, 1-l)\n",
    "        self.Ull = lambda c, l: self._Unn(c, 1-l)\n",
    "\n",
    "    # Utility function\n",
    "    def U(self, c, n):\n",
    "        σ = self.σ\n",
    "        if σ == 1.:\n",
    "            U = np.log(c)\n",
    "        else:\n",
    "            U = (c**(1 - σ) - 1) / (1 - σ)\n",
    "        return U - n**(1 + self.γ) / (1 + self.γ)\n",
    "\n",
    "    # Derivatives of utility function\n",
    "    def _Uc(self, c, n):\n",
    "        return c**(-self.σ)\n",
    "\n",
    "    def _Ucc(self, c, n):\n",
    "        return -self.σ * c**(-self.σ - 1)\n",
    "\n",
    "    def _Un(self, c, n):\n",
    "        return -n**self.γ\n",
    "\n",
    "    def _Unn(self, c, n):\n",
    "        return -self.γ * n**(self.γ - 1)"
   ]
  },
  {
   "cell_type": "markdown",
   "metadata": {},
   "source": [
    "## Verify by replicating"
   ]
  },
  {
   "cell_type": "markdown",
   "metadata": {},
   "source": [
    "Set the model parameters."
   ]
  },
  {
   "cell_type": "code",
   "execution_count": 6,
   "metadata": {},
   "outputs": [],
   "source": [
    "time_π = np.array([[0, 1, 0,   0,   0,  0],\n",
    "                   [0, 0, 1,   0,   0,  0],\n",
    "                   [0, 0, 0, 0.5, 0.5,  0],\n",
    "                   [0, 0, 0,   0,   0,  1],\n",
    "                   [0, 0, 0,   0,   0,  1],\n",
    "                   [0, 0, 0,   0,   0,  1]])\n",
    "\n",
    "time_G = np.array([0.1, 0.1, 0.1, 0.2, 0.1, 0.1])\n",
    "# Θ can in principle be random\n",
    "time_Θ = np.ones(6)"
   ]
  },
  {
   "cell_type": "code",
   "execution_count": 7,
   "metadata": {},
   "outputs": [],
   "source": [
    "b0, s0 = 1, 0"
   ]
  },
  {
   "cell_type": "markdown",
   "metadata": {},
   "source": [
    "Construct an old `SequentialAllocation` instance and compute the equilibrium quantities."
   ]
  },
  {
   "cell_type": "code",
   "execution_count": 8,
   "metadata": {},
   "outputs": [],
   "source": [
    "time_example_old = CRRAutilityOld(π=time_π, G=time_G, Θ=time_Θ)\n",
    "time_allocation_old = SequentialAllocationOld(time_example_old)"
   ]
  },
  {
   "cell_type": "code",
   "execution_count": 9,
   "metadata": {},
   "outputs": [],
   "source": [
    "cFB_old, nFB_old = time_allocation_old.cFB, time_allocation_old.nFB"
   ]
  },
  {
   "cell_type": "code",
   "execution_count": 10,
   "metadata": {},
   "outputs": [],
   "source": [
    "μ_old, c0_old, n0_old, _ = time_allocation_old.time0_allocation(b0, s0)"
   ]
  },
  {
   "cell_type": "code",
   "execution_count": 11,
   "metadata": {},
   "outputs": [],
   "source": [
    "c1_old, n1_old, x1_old, _ = time_allocation_old.time1_allocation(μ_old)"
   ]
  },
  {
   "cell_type": "markdown",
   "metadata": {},
   "source": [
    "Construct a `SequentialAllocation` instance using the refactorized code and compute the equilibrium quantities."
   ]
  },
  {
   "cell_type": "code",
   "execution_count": 12,
   "metadata": {},
   "outputs": [],
   "source": [
    "preference = CRRAutility()\n",
    "time_allocation = SequentialAllocation(preference, π=time_π, g=time_G)"
   ]
  },
  {
   "cell_type": "code",
   "execution_count": 13,
   "metadata": {},
   "outputs": [],
   "source": [
    "cFB, nFB = time_allocation.cFB, time_allocation_old.nFB"
   ]
  },
  {
   "cell_type": "code",
   "execution_count": 14,
   "metadata": {},
   "outputs": [],
   "source": [
    "Φ, c0, n0 = time_allocation.time0_allocation(b0, s0)"
   ]
  },
  {
   "cell_type": "code",
   "execution_count": 15,
   "metadata": {},
   "outputs": [],
   "source": [
    "c1, n1, x1 = time_allocation.time1_allocation(Φ)"
   ]
  },
  {
   "cell_type": "markdown",
   "metadata": {},
   "source": [
    "Compare the quantities returned by the old and refactorized code and verify the differences are close to $0$."
   ]
  },
  {
   "cell_type": "code",
   "execution_count": 16,
   "metadata": {},
   "outputs": [
    {
     "name": "stdout",
     "output_type": "stream",
     "text": [
      "6.661338147750939e-16\n",
      "0.0\n",
      "1.844080443902385e-12\n",
      "1.844080443902385e-12\n",
      "2.1327384303049257e-13\n",
      "2.1327384303049257e-13\n",
      "8.995026945513018e-12\n"
     ]
    }
   ],
   "source": [
    "for z_old, z in zip([cFB_old, nFB_old, c0_old, n0_old, c1_old, n1_old, x1_old],\n",
    "                    [cFB, nFB, c0, n0, c1, n1, x1]):\n",
    "\n",
    "    print(np.max(np.abs(z_old - z)))"
   ]
  },
  {
   "cell_type": "markdown",
   "metadata": {},
   "source": [
    "Remark: Note that the sign of the Lagrange multiplier $\\Phi$ is flipped so that it is consistent with the math in the lecture."
   ]
  },
  {
   "cell_type": "code",
   "execution_count": 17,
   "metadata": {},
   "outputs": [
    {
     "data": {
      "text/plain": [
       "-0.06175628493986698"
      ]
     },
     "execution_count": 17,
     "metadata": {},
     "output_type": "execute_result"
    }
   ],
   "source": [
    "μ_old"
   ]
  },
  {
   "cell_type": "code",
   "execution_count": 18,
   "metadata": {},
   "outputs": [
    {
     "data": {
      "text/plain": [
       "0.06175628494006926"
      ]
     },
     "execution_count": 18,
     "metadata": {},
     "output_type": "execute_result"
    }
   ],
   "source": [
    "Φ"
   ]
  },
  {
   "cell_type": "code",
   "execution_count": 19,
   "metadata": {},
   "outputs": [
    {
     "data": {
      "text/plain": [
       "2.0228263508670352e-13"
      ]
     },
     "execution_count": 19,
     "metadata": {},
     "output_type": "execute_result"
    }
   ],
   "source": [
    "μ_old + Φ"
   ]
  },
  {
   "cell_type": "markdown",
   "metadata": {},
   "source": [
    "The final step of \"verifying by replicating\" is to generate the same plot we have in the [quantecon lecture](https://python-advanced.quantecon.org/opt_tax_recur.html#Anticipated-One-Period-War)."
   ]
  },
  {
   "cell_type": "code",
   "execution_count": 20,
   "metadata": {},
   "outputs": [
    {
     "name": "stderr",
     "output_type": "stream",
     "text": [
      "C:\\ProgramData\\Anaconda3\\lib\\site-packages\\ipykernel_launcher.py:183: VisibleDeprecationWarning: Creating an ndarray from ragged nested sequences (which is a list-or-tuple of lists-or-tuples-or ndarrays with different lengths or shapes) is deprecated. If you meant to do this, you must specify 'dtype=object' when creating the ndarray\n"
     ]
    },
    {
     "data": {
      "image/png": "[encoded data removed]",
      "text/plain": [
       "<Figure size 1008x720 with 6 Axes>"
      ]
     },
     "metadata": {
      "needs_background": "light"
     },
     "output_type": "display_data"
    }
   ],
   "source": [
    "# Solve sequential problem\n",
    "sHist_h = np.array([0, 1, 2, 3, 5, 5, 5])\n",
    "sHist_l = np.array([0, 1, 2, 4, 5, 5, 5])\n",
    "sim_seq_h = time_allocation.simulate(1, 0, 7, sHist_h)\n",
    "sim_seq_l = time_allocation.simulate(1, 0, 7, sHist_l)\n",
    "\n",
    "# Government spending paths\n",
    "sim_seq_l[4] = time_allocation.g[sHist_l]\n",
    "sim_seq_h[4] = time_allocation.g[sHist_h]\n",
    "\n",
    "# Output paths\n",
    "sim_seq_l[5] = sim_seq_l[1]\n",
    "sim_seq_h[5] = sim_seq_h[1]\n",
    "\n",
    "fig, axes = plt.subplots(3, 2, figsize=(14, 10))\n",
    "titles = ['Consumption', 'Labor Supply', 'Government Debt',\n",
    "          'Tax Rate', 'Government Spending', 'Output']\n",
    "\n",
    "for ax, title, sim_l, sim_h in zip(axes.flatten(),\n",
    "        titles, sim_seq_l, sim_seq_h):\n",
    "    ax.set(title=title)\n",
    "    ax.plot(sim_l, '-ok', sim_h, '-or', alpha=0.7)\n",
    "    ax.grid()\n",
    "\n",
    "plt.tight_layout()\n",
    "plt.show()"
   ]
  },
  {
   "cell_type": "markdown",
   "metadata": {},
   "source": [
    "Finally, let's generate a bunch of random model parameters $\\pi$ and $g$, as well as random initial state $s_0$ and intial debt $b_0$, and verify that the refactorized code returns the same equilibrium quantities as the original code."
   ]
  },
  {
   "cell_type": "code",
   "execution_count": 21,
   "metadata": {},
   "outputs": [],
   "source": [
    "N = 1000\n",
    "res = np.ones(N, dtype=bool)\n",
    "\n",
    "S_max = 7\n",
    "for i in range(N):\n",
    "\n",
    "    # generate a random LS problem\n",
    "    S = np.random.randint(1, S_max)\n",
    "\n",
    "    b0 = np.random.random()\n",
    "    s0 = np.random.randint(0, S)\n",
    "\n",
    "    time_π = np.random.random((S, S))\n",
    "    time_π = (time_π.T / time_π.sum(1)).T\n",
    "\n",
    "    time_G = np.random.random(S) * 0.2\n",
    "\n",
    "    time_Θ = np.ones(S)\n",
    "\n",
    "    # solution given by the original code\n",
    "    time_example_old = CRRAutilityOld(π=time_π, G=time_G, Θ=time_Θ)\n",
    "    time_allocation_old = SequentialAllocationOld(time_example_old)\n",
    "\n",
    "    cFB_old, nFB_old = time_allocation_old.cFB, time_allocation_old.nFB\n",
    "    μ_old, c0_old, n0_old, _ = time_allocation_old.time0_allocation(b0, s0)\n",
    "    c1_old, n1_old, x1_old, _ = time_allocation_old.time1_allocation(μ_old)\n",
    "\n",
    "    # solution given by the refactorized code\n",
    "    preference = CRRAutility()\n",
    "    time_allocation = SequentialAllocation(preference, π=time_π, g=time_G)\n",
    "\n",
    "    cFB, nFB = time_allocation.cFB, time_allocation_old.nFB\n",
    "    Φ, c0, n0 = time_allocation.time0_allocation(b0, s0)\n",
    "    c1, n1, x1 = time_allocation.time1_allocation(Φ)\n",
    "\n",
    "    # compare\n",
    "    for z_old, z in zip([cFB_old, nFB_old, c0_old, n0_old, c1_old, n1_old, x1_old],\n",
    "                    [cFB, nFB, c0, n0, c1, n1, x1]):\n",
    "\n",
    "        if np.max(np.abs(z_old - z)) > 1e-8:\n",
    "            res[i] = False\n",
    "            continue"
   ]
  },
  {
   "cell_type": "code",
   "execution_count": 22,
   "metadata": {},
   "outputs": [
    {
     "name": "stdout",
     "output_type": "stream",
     "text": [
      "test passed\n"
     ]
    }
   ],
   "source": [
    "if res.all():\n",
    "    print(\"test passed\")\n",
    "else:\n",
    "    print(\"replication failed\")"
   ]
  },
  {
   "cell_type": "markdown",
   "metadata": {},
   "source": [
    "## Speed Comparison"
   ]
  },
  {
   "cell_type": "markdown",
   "metadata": {},
   "source": [
    "By refactorizing the code, the speed is improved by almost 20 to 30 percent on Tom's PHBS machine. I suspect the main improvement comes from the reduction in the dimension of the root to find, from expanded vector $\\left[c, n, \\Xi\\right]$ to just $\\left[c\\right]$."
   ]
  },
  {
   "cell_type": "code",
   "execution_count": 23,
   "metadata": {},
   "outputs": [
    {
     "name": "stdout",
     "output_type": "stream",
     "text": [
      "7.51 ms ± 214 µs per loop (mean ± std. dev. of 7 runs, 100 loops each)\n"
     ]
    }
   ],
   "source": [
    "%timeit time_allocation_old.time0_allocation(1, 0)"
   ]
  },
  {
   "cell_type": "code",
   "execution_count": 24,
   "metadata": {},
   "outputs": [
    {
     "name": "stdout",
     "output_type": "stream",
     "text": [
      "5.85 ms ± 22.5 µs per loop (mean ± std. dev. of 7 runs, 100 loops each)\n"
     ]
    }
   ],
   "source": [
    "%timeit time_allocation.time0_allocation(1, 0)"
   ]
  },
  {
   "cell_type": "code",
   "execution_count": null,
   "metadata": {},
   "outputs": [],
   "source": []
  }
 ],
 "metadata": {
  "kernelspec": {
   "display_name": "Python 3",
   "language": "python",
   "name": "python3"
  },
  "language_info": {
   "codemirror_mode": {
    "name": "ipython",
    "version": 3
   },
   "file_extension": ".py",
   "mimetype": "text/x-python",
   "name": "python",
   "nbconvert_exporter": "python",
   "pygments_lexer": "ipython3",
   "version": "3.7.4"
  }
 },
 "nbformat": 4,
 "nbformat_minor": 2
}
