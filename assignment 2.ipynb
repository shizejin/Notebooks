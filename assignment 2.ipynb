{
 "cells": [
  {
   "cell_type": "markdown",
   "metadata": {},
   "source": [
    "# ECON 696F Assignment 2"
   ]
  },
  {
   "cell_type": "markdown",
   "metadata": {},
   "source": [
    "*Zejin Shi （shizejin94@gmail.com）*"
   ]
  },
  {
   "cell_type": "code",
   "execution_count": 1,
   "metadata": {},
   "outputs": [],
   "source": [
    "import numpy as np\n",
    "import pandas as pd\n",
    "from numba import njit, prange\n",
    "from interpolation import interp\n",
    "from scipy.optimize import minimize\n",
    "\n",
    "# set the precision for printing ndarray\n",
    "np.set_printoptions(precision=3)"
   ]
  },
  {
   "cell_type": "code",
   "execution_count": 2,
   "metadata": {},
   "outputs": [],
   "source": [
    "import matplotlib.pyplot as plt\n",
    "\n",
    "% matplotlib inline"
   ]
  },
  {
   "cell_type": "code",
   "execution_count": 3,
   "metadata": {},
   "outputs": [],
   "source": [
    "γ = 0.5772156649 # not used"
   ]
  },
  {
   "cell_type": "code",
   "execution_count": 4,
   "metadata": {},
   "outputs": [],
   "source": [
    "# region (10) * lag_investment (2) * lag2_investent(2) * ordered_violator (3) * disc_violations (20)\n",
    "n_naics_recode = 7\n",
    "n_region = 10\n",
    "n_Linv = 2\n",
    "n_L2inv = 2\n",
    "n_ordered_violator = 3\n",
    "n_DAV = 20\n",
    "n_vio = 2\n",
    "\n",
    "# focus on the fist sector\n",
    "sector = 0"
   ]
  },
  {
   "cell_type": "code",
   "execution_count": 5,
   "metadata": {},
   "outputs": [],
   "source": [
    "# import the simulated data for bellman computation\n",
    "f = open(\"/Users/hyde/Dropbox/UArizona/ECON 696/data_for_bellman_computations.csv\")\n",
    "lines = f.readlines()\n",
    "\n",
    "simulated_dist = np.empty((n_naics_recode, n_region, n_Linv, n_L2inv, n_ordered_violator, n_DAV, 80, 7))\n",
    "\n",
    "for line in lines[1:]:\n",
    "    line = line.split(',')\n",
    "    for i in range(80):\n",
    "        simulated_dist[int(line[0])-1, int(line[1])-1, int(line[2]), int(line[3]), int(line[4]), int(line[5])-1][i] = [float(e) for e in line[7+7*i:14+7*i]]"
   ]
  },
  {
   "cell_type": "code",
   "execution_count": 6,
   "metadata": {},
   "outputs": [],
   "source": [
    "# import observed data for quasilikelihood calculation\n",
    "f = open(\"/Users/hyde/Dropbox/UArizona/ECON 696/analysis_data.csv\")\n",
    "lines = f.readlines()\n",
    "\n",
    "# for i, col in enumerate(lines[0].split(',')):\n",
    "#     print(col, i, i-2)\n",
    "\n",
    "lines[0]\n",
    "data = []\n",
    "for line in lines[1:]:\n",
    "    line = [e for e in line.strip().split(',')[2:18]]\n",
    "    vio = int(line[2])\n",
    "    Linv = int(line[4])\n",
    "    inv = int(line[6])\n",
    "    naics_recode = int(line[7])\n",
    "    region = int(line[9])\n",
    "    ordered_violator = int(line[13])\n",
    "    DAV = float(line[15])\n",
    "    \n",
    "    if (naics_recode - 1) == sector:\n",
    "        data.append([region-1, Linv, ordered_violator, DAV, vio, inv])\n",
    "        \n",
    "data = np.array(data)"
   ]
  },
  {
   "cell_type": "code",
   "execution_count": 7,
   "metadata": {},
   "outputs": [],
   "source": [
    "def BGL(euler=0):\n",
    "    \"\"\"\n",
    "    Factory functions for generating functions of Bellman operators \n",
    "    and quasilikelihood estimation of “Escalation of Scrutiny: \n",
    "    The Gains from Dynamic Enforcement of Environmental Regulations.” \n",
    "    NBER Working Paper 24810 [BGL]\n",
    "    \"\"\"\n",
    "    \n",
    "    # depreciation rate\n",
    "    δ = 0.1\n",
    "    \n",
    "    # discount factor\n",
    "    β = 0.95 ** (1/4.)\n",
    "    \n",
    "    # initialize V(Ω') and V(Ω)\n",
    "    # set the initial values to be 0\n",
    "    \n",
    "    # the range of DAV for interpolation\n",
    "    DAV_range = np.arange(0., 10.0, 0.5)\n",
    "    \n",
    "    @njit\n",
    "    def initialize():\n",
    "        \"\"\"\n",
    "        Initialize V(Ω') and V(Ω) matrices for value functions. \n",
    "        \"\"\"\n",
    "        # V(Ω')\n",
    "        # Notice that L2inv is a useless state for Ω'\n",
    "        VΩ_prime = np.zeros((n_region, n_Linv, n_ordered_violator, n_DAV, n_vio))\n",
    "        # V(Ω) \n",
    "        VΩ = np.zeros((n_region, n_Linv, n_L2inv, n_ordered_violator, n_DAV))\n",
    "        \n",
    "        return VΩ_prime, VΩ\n",
    "    \n",
    "    @njit(parallel=True)\n",
    "    def VΩ_prime_operator(VΩ_prime, VΩ, θ):\n",
    "        \"\"\"\n",
    "        Bellman operator for updating VΩ using VΩ_prime values. (Eq. (2) in BGL)\n",
    "        \"\"\"\n",
    "        θ_I, θ_F, θ_V, θ_H, θ_X = θ\n",
    "        \n",
    "        for region in prange(n_region):\n",
    "            for Linv in prange(n_Linv):\n",
    "                for ordered_violator in prange(n_ordered_violator):\n",
    "                    for i_DAV in prange(n_DAV):\n",
    "                        for vio in prange(n_vio):\n",
    "                            DAV = i_DAV * 0.5\n",
    "\n",
    "                            # for compliance\n",
    "                            if ordered_violator == 0:\n",
    "                                if euler == 1:\n",
    "                                    VΩ_prime[region, Linv, ordered_violator, i_DAV, vio] = β * VΩ[region, 0, Linv, ordered_violator, i_DAV] + γ\n",
    "                                \n",
    "                                elif euler == 0:\n",
    "                                    # without Euler constant\n",
    "                                    VΩ_prime[region, Linv, ordered_violator, i_DAV, vio] = β * VΩ[region, 0, Linv, ordered_violator, i_DAV]\n",
    "\n",
    "                            else:\n",
    "\n",
    "                                DAV_next = min((1 - δ) * DAV + vio, 9.5)\n",
    "                                \n",
    "                                if euler == 1:\n",
    "                                    VΩ_prime[region, Linv, ordered_violator, i_DAV, vio] = \\\n",
    "                                        np.log(np.exp(β * interp(DAV_range, VΩ[region, 0, Linv, ordered_violator, :], DAV_next))\n",
    "                                        + np.exp(θ_X + β * interp(DAV_range, VΩ[region, 1, Linv, ordered_violator, :], DAV_next))) + γ\n",
    "                                elif euler == 0:\n",
    "                                    # without Euler constant\n",
    "                                    VΩ_prime[region, Linv, ordered_violator, i_DAV, vio] = \\\n",
    "                                        np.log(np.exp(β * interp(DAV_range, VΩ[region, 0, Linv, ordered_violator, :], DAV_next))\n",
    "                                        + np.exp(θ_X + β * interp(DAV_range, VΩ[region, 1, Linv, ordered_violator, :], DAV_next)))\n",
    "\n",
    "\n",
    "\n",
    "    @njit(parallel=True)\n",
    "    def VΩ_operator(VΩ_prime, VΩ, θ):\n",
    "        \"\"\"\n",
    "        Bellman operator for updating VΩ_prime using VΩ values. (Eq. (3) in BGL)\n",
    "        \"\"\"\n",
    "        θ_I, θ_F, θ_V, θ_H, θ_X = θ\n",
    "        \n",
    "        for region in prange(n_region):\n",
    "            for Linv in prange(n_Linv):\n",
    "                for L2inv in prange(n_L2inv):\n",
    "                    for ordered_violator in prange(n_ordered_violator):\n",
    "                        for i_DAV in prange(n_DAV):\n",
    "                            \n",
    "                            # find out the transitions\n",
    "                            # for compliance\n",
    "                            if (ordered_violator == 0):\n",
    "                                transition = simulated_dist[sector, region, 0, 0, ordered_violator, 0]\n",
    "                            # for regular violator and high priority violator\n",
    "                            else:\n",
    "                                transition = simulated_dist[sector, region, Linv, L2inv, ordered_violator, i_DAV]\n",
    "                            \n",
    "                            VΩ[region, Linv, L2inv, ordered_violator, i_DAV] = 0.\n",
    "                            \n",
    "                            for i in prange(80):\n",
    "                                ins, vio, fine, prob, prob0, prob1, prob2 = transition[i]\n",
    "                                util = θ_I * float(ins) + fine * θ_F + float(vio) * θ_V\n",
    "                                \n",
    "                                # if transit to compliance plant\n",
    "                                util += prob0 * VΩ_prime[region, Linv, 0, 0, int(vio)]\n",
    "                                \n",
    "                                # if transit to regular violator or high priority violator\n",
    "                                util += prob1 * VΩ_prime[region, Linv, 1, i_DAV, int(vio)]\n",
    "                                util += prob2 * (VΩ_prime[region, Linv, 2, i_DAV, int(vio)] + θ_H)\n",
    "                                \n",
    "                                VΩ[region, Linv, L2inv, ordered_violator, i_DAV] += prob * util\n",
    "    \n",
    "    def solve_bellman(θ, tol=1e-7, verbose=True):\n",
    "        \"\"\"\n",
    "        Wrap the procedure of initializing and iterating.\n",
    "        \"\"\"\n",
    "        VΩ_prime, VΩ = initialize()\n",
    "\n",
    "        dist = np.inf\n",
    "        i = 0\n",
    "\n",
    "        while dist > tol:\n",
    "\n",
    "            VΩ_old = np.copy(VΩ)\n",
    "\n",
    "            VΩ_operator(VΩ_prime, VΩ, θ)\n",
    "            VΩ_prime_operator(VΩ_prime, VΩ, θ)\n",
    "\n",
    "            dist = np.max(np.abs(VΩ_old - VΩ))\n",
    "            i += 1\n",
    "\n",
    "            if (i % 100 == 0) & (verbose):\n",
    "                print(f'{i} times of iteration: error = {dist}')\n",
    "\n",
    "        return VΩ_prime, VΩ\n",
    "    \n",
    "    @njit\n",
    "    def solve_bellman_jitted(θ, tol=1e-7):\n",
    "        \"\"\"\n",
    "        The jitted version of solve_bellman without printing.\n",
    "        \"\"\"\n",
    "        VΩ_prime, VΩ = initialize()\n",
    "\n",
    "        dist = np.inf\n",
    "\n",
    "        while dist > tol:\n",
    "\n",
    "            VΩ_old = np.copy(VΩ)\n",
    "\n",
    "            VΩ_operator(VΩ_prime, VΩ, θ)\n",
    "            VΩ_prime_operator(VΩ_prime, VΩ, θ)\n",
    "\n",
    "            dist = np.max(np.abs(VΩ_old - VΩ))\n",
    "\n",
    "        return VΩ_prime, VΩ\n",
    "\n",
    "    @njit(parallel=True)\n",
    "    def comute_CCP_inv(VΩ_prime, VΩ, θ):\n",
    "        \"\"\"\n",
    "        Use value function to calculate CCP for investing.\n",
    "        \"\"\"\n",
    "        CCP_inv = np.zeros_like(VΩ_prime)\n",
    "\n",
    "        θ_I, θ_F, θ_V, θ_H, θ_X = θ\n",
    "\n",
    "        for region in prange(n_region):\n",
    "            for Linv in prange(n_Linv):\n",
    "                for ordered_violator in prange(n_ordered_violator):\n",
    "                    for i_DAV in prange(n_DAV):\n",
    "                        for vio in prange(n_vio):\n",
    "                            DAV = i_DAV * 0.5\n",
    "\n",
    "                            # for compliance\n",
    "                            # no investment\n",
    "                            if ordered_violator == 0:\n",
    "                                continue\n",
    "\n",
    "                            else:\n",
    "\n",
    "                                DAV_next = min((1 - δ) * DAV + vio, 9.5)\n",
    "                                \n",
    "                                # exponential value of no investment\n",
    "                                exp_value_noinv = np.exp(β * interp(DAV_range, VΩ[region, 0, Linv, ordered_violator, :], DAV_next))\n",
    "                                # exponential value of investment\n",
    "                                exp_value_inv = np.exp(θ_X + β * interp(DAV_range, VΩ[region, 1, Linv, ordered_violator, :], DAV_next))\n",
    "                                CCP_inv[region, Linv, ordered_violator, i_DAV, vio] = exp_value_inv / (exp_value_inv + exp_value_noinv)\n",
    "\n",
    "        return CCP_inv\n",
    "    \n",
    "    @njit\n",
    "    def quasilikelihood(CCP_inv, data):\n",
    "        \"\"\"\n",
    "        Use CCP and observed data to calculate quasi-likelihood.\n",
    "        \"\"\"\n",
    "        L = 0.\n",
    "        for i in range(data.shape[0]):\n",
    "            region, Linv, ordered_violator, DAV, vio, inv = data[i]\n",
    "            CCP = interp(DAV_range, CCP_inv[int(region), int(Linv), int(ordered_violator), :, int(vio)], DAV)\n",
    "            \n",
    "            if inv == 1:\n",
    "                L += np.log(CCP)\n",
    "            else:\n",
    "                L += np.log(1 - CCP)\n",
    "                \n",
    "        return L\n",
    "    \n",
    "    @njit\n",
    "    def quasilikelihood_wrapped(θ, data):\n",
    "        \"\"\"\n",
    "        Wrap the procedure of calculating value function, CCP, and quasilikelihood.\n",
    "        Only takes parameter θ and data as inputs.\n",
    "        \"\"\"\n",
    "        VΩ_prime, VΩ = solve_bellman_jitted(θ)\n",
    "        CCP_inv = comute_CCP_inv(VΩ_prime, VΩ, θ)\n",
    "        L = quasilikelihood(CCP_inv, data)\n",
    "        \n",
    "        # return -L because we want to use sp.optimize.minimize to do optimization\n",
    "        return - L\n",
    "    \n",
    "    return initialize, VΩ_prime_operator, VΩ_operator, solve_bellman, solve_bellman_jitted, \\\n",
    "                comute_CCP_inv, quasilikelihood, quasilikelihood_wrapped"
   ]
  },
  {
   "cell_type": "markdown",
   "metadata": {},
   "source": [
    "# 1)Compute the plant's dynamic optimization decision for the parameters "
   ]
  },
  {
   "cell_type": "markdown",
   "metadata": {},
   "source": [
    "## c. $\\widehat{\\theta} \\equiv ( \\theta^X = -2, \\theta^I = -0.5, \\theta^V = -0.5, \\theta^F = -0.1, \\theta^H = -0.1 )$. "
   ]
  },
  {
   "cell_type": "code",
   "execution_count": 8,
   "metadata": {},
   "outputs": [],
   "source": [
    "# ordered by θ_I, θ_F, θ_V, θ_H, θ_X\n",
    "θ = (-0.5, -0.1, -0.5, -0.1, -2.)"
   ]
  },
  {
   "cell_type": "code",
   "execution_count": 9,
   "metadata": {},
   "outputs": [
    {
     "name": "stdout",
     "output_type": "stream",
     "text": [
      "100 times of iteration: error = 0.22752409133430263\n",
      "200 times of iteration: error = 0.020246156713767505\n",
      "300 times of iteration: error = 0.0030130955647535984\n",
      "400 times of iteration: error = 0.0006788794834307055\n",
      "500 times of iteration: error = 0.00017885592946242923\n",
      "600 times of iteration: error = 4.904215899159681e-05\n",
      "700 times of iteration: error = 1.3569205364660775e-05\n",
      "800 times of iteration: error = 3.7618193573507597e-06\n",
      "900 times of iteration: error = 1.0433456623104576e-06\n",
      "1000 times of iteration: error = 2.894003330311534e-07\n"
     ]
    }
   ],
   "source": [
    "# no euler constant\n",
    "initialize, VΩ_prime_operator, VΩ_operator, solve_bellman, solve_bellman_jitted,\\\n",
    "comute_CCP_inv,quasilikelihood, quasilikelihood_wrapped = BGL(euler=0)\n",
    "\n",
    "VΩ_prime_no_euler, VΩ_no_euler = solve_bellman(θ)"
   ]
  },
  {
   "cell_type": "code",
   "execution_count": 10,
   "metadata": {},
   "outputs": [
    {
     "name": "stdout",
     "output_type": "stream",
     "text": [
      "1.02 s ± 31.5 ms per loop (mean ± std. dev. of 7 runs, 1 loop each)\n"
     ]
    }
   ],
   "source": [
    "# check the speed of each bellman value calculation\n",
    "%timeit solve_bellman(θ, verbose=False)"
   ]
  },
  {
   "cell_type": "code",
   "execution_count": 11,
   "metadata": {},
   "outputs": [],
   "source": [
    "CCP_inv_no_euler = comute_CCP_inv(VΩ_prime_no_euler, VΩ_no_euler, θ)"
   ]
  },
  {
   "cell_type": "code",
   "execution_count": 12,
   "metadata": {},
   "outputs": [],
   "source": [
    "# # with euler constant\n",
    "# initialize, VΩ_prime_operator, VΩ_operator, solve_bellman, comute_CCP_inv, quasilikelihood, quasilikelihood_wrapped, standard_error = BGL(euler=1)\n",
    "# VΩ_prime_euler, VΩ_euler = solve_bellman(θ)"
   ]
  },
  {
   "cell_type": "code",
   "execution_count": 13,
   "metadata": {},
   "outputs": [],
   "source": [
    "# CCP_inv_euler = comute_CCP_inv(VΩ_prime_euler, VΩ_euler, θ)"
   ]
  },
  {
   "cell_type": "markdown",
   "metadata": {},
   "source": [
    "## Report the investment probability for all states with DAV = 2 (for which the integer grid takes on a value of 4)."
   ]
  },
  {
   "cell_type": "code",
   "execution_count": 14,
   "metadata": {},
   "outputs": [
    {
     "name": "stdout",
     "output_type": "stream",
     "text": [
      "region=0, Linv=0, ordered_violator=1, vio=0:                     Pr(inv=1) = 0.10186601188593582\n",
      "region=0, Linv=0, ordered_violator=1, vio=1:                     Pr(inv=1) = 0.13338820158615758\n",
      "region=0, Linv=0, ordered_violator=2, vio=0:                     Pr(inv=1) = 0.41102731576559653\n",
      "region=0, Linv=0, ordered_violator=2, vio=1:                     Pr(inv=1) = 0.4877671041059714\n",
      "region=0, Linv=1, ordered_violator=1, vio=0:                     Pr(inv=1) = 0.10233586776502059\n",
      "region=0, Linv=1, ordered_violator=1, vio=1:                     Pr(inv=1) = 0.14472276623547894\n",
      "region=0, Linv=1, ordered_violator=2, vio=0:                     Pr(inv=1) = 0.3294046660590227\n",
      "region=0, Linv=1, ordered_violator=2, vio=1:                     Pr(inv=1) = 0.35890843594989524\n",
      "region=1, Linv=0, ordered_violator=1, vio=0:                     Pr(inv=1) = 0.10678035351775872\n",
      "region=1, Linv=0, ordered_violator=1, vio=1:                     Pr(inv=1) = 0.14409189084137008\n",
      "region=1, Linv=0, ordered_violator=2, vio=0:                     Pr(inv=1) = 0.46565460219562926\n",
      "region=1, Linv=0, ordered_violator=2, vio=1:                     Pr(inv=1) = 0.5944925164336778\n",
      "region=1, Linv=1, ordered_violator=1, vio=0:                     Pr(inv=1) = 0.10839635764318097\n",
      "region=1, Linv=1, ordered_violator=1, vio=1:                     Pr(inv=1) = 0.15718738077054892\n",
      "region=1, Linv=1, ordered_violator=2, vio=0:                     Pr(inv=1) = 0.3571401232621134\n",
      "region=1, Linv=1, ordered_violator=2, vio=1:                     Pr(inv=1) = 0.40816313233136403\n",
      "region=2, Linv=0, ordered_violator=1, vio=0:                     Pr(inv=1) = 0.13876268901194347\n",
      "region=2, Linv=0, ordered_violator=1, vio=1:                     Pr(inv=1) = 0.19214806044818952\n",
      "region=2, Linv=0, ordered_violator=2, vio=0:                     Pr(inv=1) = 0.4606869982419501\n",
      "region=2, Linv=0, ordered_violator=2, vio=1:                     Pr(inv=1) = 0.5269398309851585\n",
      "region=2, Linv=1, ordered_violator=1, vio=0:                     Pr(inv=1) = 0.1425851307809461\n",
      "region=2, Linv=1, ordered_violator=1, vio=1:                     Pr(inv=1) = 0.1986824718582893\n",
      "region=2, Linv=1, ordered_violator=2, vio=0:                     Pr(inv=1) = 0.3101867439776801\n",
      "region=2, Linv=1, ordered_violator=2, vio=1:                     Pr(inv=1) = 0.32394855924894866\n",
      "region=3, Linv=0, ordered_violator=1, vio=0:                     Pr(inv=1) = 0.11876820570895527\n",
      "region=3, Linv=0, ordered_violator=1, vio=1:                     Pr(inv=1) = 0.15308622586002774\n",
      "region=3, Linv=0, ordered_violator=2, vio=0:                     Pr(inv=1) = 0.4523426418946525\n",
      "region=3, Linv=0, ordered_violator=2, vio=1:                     Pr(inv=1) = 0.562022483589059\n",
      "region=3, Linv=1, ordered_violator=1, vio=0:                     Pr(inv=1) = 0.12222330610661848\n",
      "region=3, Linv=1, ordered_violator=1, vio=1:                     Pr(inv=1) = 0.15742253855647287\n",
      "region=3, Linv=1, ordered_violator=2, vio=0:                     Pr(inv=1) = 0.347176487808033\n",
      "region=3, Linv=1, ordered_violator=2, vio=1:                     Pr(inv=1) = 0.3920850968372671\n",
      "region=4, Linv=0, ordered_violator=1, vio=0:                     Pr(inv=1) = 0.11689170143921075\n",
      "region=4, Linv=0, ordered_violator=1, vio=1:                     Pr(inv=1) = 0.1653559016137478\n",
      "region=4, Linv=0, ordered_violator=2, vio=0:                     Pr(inv=1) = 0.3704435397168214\n",
      "region=4, Linv=0, ordered_violator=2, vio=1:                     Pr(inv=1) = 0.4701379323618286\n",
      "region=4, Linv=1, ordered_violator=1, vio=0:                     Pr(inv=1) = 0.1221193579283507\n",
      "region=4, Linv=1, ordered_violator=1, vio=1:                     Pr(inv=1) = 0.18467903561826138\n",
      "region=4, Linv=1, ordered_violator=2, vio=0:                     Pr(inv=1) = 0.26483068609298493\n",
      "region=4, Linv=1, ordered_violator=2, vio=1:                     Pr(inv=1) = 0.29371867621081743\n",
      "region=5, Linv=0, ordered_violator=1, vio=0:                     Pr(inv=1) = 0.13875696647067717\n",
      "region=5, Linv=0, ordered_violator=1, vio=1:                     Pr(inv=1) = 0.21288744596175188\n",
      "region=5, Linv=0, ordered_violator=2, vio=0:                     Pr(inv=1) = 0.4239208088483703\n",
      "region=5, Linv=0, ordered_violator=2, vio=1:                     Pr(inv=1) = 0.49146450361513216\n",
      "region=5, Linv=1, ordered_violator=1, vio=0:                     Pr(inv=1) = 0.14834639230288152\n",
      "region=5, Linv=1, ordered_violator=1, vio=1:                     Pr(inv=1) = 0.23781473460699834\n",
      "region=5, Linv=1, ordered_violator=2, vio=0:                     Pr(inv=1) = 0.29273522097410676\n",
      "region=5, Linv=1, ordered_violator=2, vio=1:                     Pr(inv=1) = 0.30505395775157623\n",
      "region=6, Linv=0, ordered_violator=1, vio=0:                     Pr(inv=1) = 0.11873020984182338\n",
      "region=6, Linv=0, ordered_violator=1, vio=1:                     Pr(inv=1) = 0.1501139388543309\n",
      "region=6, Linv=0, ordered_violator=2, vio=0:                     Pr(inv=1) = 0.3652675396102537\n",
      "region=6, Linv=0, ordered_violator=2, vio=1:                     Pr(inv=1) = 0.42290380652590703\n",
      "region=6, Linv=1, ordered_violator=1, vio=0:                     Pr(inv=1) = 0.12118624989493625\n",
      "region=6, Linv=1, ordered_violator=1, vio=1:                     Pr(inv=1) = 0.15469646530832765\n",
      "region=6, Linv=1, ordered_violator=2, vio=0:                     Pr(inv=1) = 0.27689667660131034\n",
      "region=6, Linv=1, ordered_violator=2, vio=1:                     Pr(inv=1) = 0.2947525565901356\n",
      "region=7, Linv=0, ordered_violator=1, vio=0:                     Pr(inv=1) = 0.08783093209153327\n",
      "region=7, Linv=0, ordered_violator=1, vio=1:                     Pr(inv=1) = 0.10780574724227024\n",
      "region=7, Linv=0, ordered_violator=2, vio=0:                     Pr(inv=1) = 0.39186864938253113\n",
      "region=7, Linv=0, ordered_violator=2, vio=1:                     Pr(inv=1) = 0.44558797357065316\n",
      "region=7, Linv=1, ordered_violator=1, vio=0:                     Pr(inv=1) = 0.07939905536482973\n",
      "region=7, Linv=1, ordered_violator=1, vio=1:                     Pr(inv=1) = 0.11585620708992353\n",
      "region=7, Linv=1, ordered_violator=2, vio=0:                     Pr(inv=1) = 0.2621018672375259\n",
      "region=7, Linv=1, ordered_violator=2, vio=1:                     Pr(inv=1) = 0.26570832701301833\n",
      "region=8, Linv=0, ordered_violator=1, vio=0:                     Pr(inv=1) = 0.15710291644254648\n",
      "region=8, Linv=0, ordered_violator=1, vio=1:                     Pr(inv=1) = 0.20534648026867994\n",
      "region=8, Linv=0, ordered_violator=2, vio=0:                     Pr(inv=1) = 0.47643308501668574\n",
      "region=8, Linv=0, ordered_violator=2, vio=1:                     Pr(inv=1) = 0.6518297466355768\n",
      "region=8, Linv=1, ordered_violator=1, vio=0:                     Pr(inv=1) = 0.18689488552291691\n",
      "region=8, Linv=1, ordered_violator=1, vio=1:                     Pr(inv=1) = 0.2566040034229243\n",
      "region=8, Linv=1, ordered_violator=2, vio=0:                     Pr(inv=1) = 0.3360696183508554\n",
      "region=8, Linv=1, ordered_violator=2, vio=1:                     Pr(inv=1) = 0.39625910184796037\n",
      "region=9, Linv=0, ordered_violator=1, vio=0:                     Pr(inv=1) = 0.12749902667831137\n",
      "region=9, Linv=0, ordered_violator=1, vio=1:                     Pr(inv=1) = 0.18879753921181827\n",
      "region=9, Linv=0, ordered_violator=2, vio=0:                     Pr(inv=1) = 0.43446422315942274\n",
      "region=9, Linv=0, ordered_violator=2, vio=1:                     Pr(inv=1) = 0.5598906526028131\n",
      "region=9, Linv=1, ordered_violator=1, vio=0:                     Pr(inv=1) = 0.13347560565168423\n",
      "region=9, Linv=1, ordered_violator=1, vio=1:                     Pr(inv=1) = 0.20098189728625931\n",
      "region=9, Linv=1, ordered_violator=2, vio=0:                     Pr(inv=1) = 0.3499415944454972\n",
      "region=9, Linv=1, ordered_violator=2, vio=1:                     Pr(inv=1) = 0.4149815806376017\n"
     ]
    }
   ],
   "source": [
    "i_DAV = 4 # DAV = 2\n",
    "\n",
    "for region in range(n_region):\n",
    "    for Linv in range(n_Linv):\n",
    "        for ordered_violator in range(1, 3):\n",
    "            for vio in range(2):\n",
    "                print(f'region={region}, Linv={Linv}, ordered_violator={ordered_violator}, vio={vio}: \\\n",
    "                    Pr(inv=1) = {CCP_inv_no_euler[region, Linv, ordered_violator, i_DAV, vio]}')"
   ]
  },
  {
   "cell_type": "code",
   "execution_count": 15,
   "metadata": {},
   "outputs": [
    {
     "data": {
      "text/plain": [
       "<matplotlib.legend.Legend at 0x1035c85588>"
      ]
     },
     "execution_count": 15,
     "metadata": {},
     "output_type": "execute_result"
    },
    {
     "data": {
      "image/png": "[encoded data removed]",
      "text/plain": [
       "<Figure size 432x288 with 1 Axes>"
      ]
     },
     "metadata": {},
     "output_type": "display_data"
    }
   ],
   "source": [
    "# an example of CCPs\n",
    "# region 2, lag investment = 0, regular violator\n",
    "\n",
    "plt.plot(np.arange(0., 10., 0.5), CCP_inv_no_euler[1, 0, 1, :, 0], label=\"no violation\")\n",
    "plt.plot(np.arange(0., 10., 0.5), CCP_inv_no_euler[1, 0, 1, :, 1], label=\"violation\")\n",
    "\n",
    "plt.legend()"
   ]
  },
  {
   "cell_type": "markdown",
   "metadata": {},
   "source": [
    "# 2) Nested fixed point quasi-maximum likelihood estimation."
   ]
  },
  {
   "cell_type": "markdown",
   "metadata": {},
   "source": [
    "## a. Report the quasi-likelihood for the parameter vector $\\widehat{\\theta}$."
   ]
  },
  {
   "cell_type": "code",
   "execution_count": 16,
   "metadata": {},
   "outputs": [
    {
     "data": {
      "text/plain": [
       "-6675.635586959141"
      ]
     },
     "execution_count": 16,
     "metadata": {},
     "output_type": "execute_result"
    }
   ],
   "source": [
    "quasilikelihood(CCP_inv_no_euler, data)"
   ]
  },
  {
   "cell_type": "markdown",
   "metadata": {},
   "source": [
    "## b. Maxmize the likelihood for BGL parameters."
   ]
  },
  {
   "cell_type": "markdown",
   "metadata": {},
   "source": [
    "$\\theta = \\left(-2.948, -0.018, -0.303, -0.114, -0.049 \\right)$."
   ]
  },
  {
   "cell_type": "markdown",
   "metadata": {},
   "source": [
    "Choosing to use \"Nelder-Mead\" method for nonlinear search."
   ]
  },
  {
   "cell_type": "code",
   "execution_count": 17,
   "metadata": {
    "scrolled": false
   },
   "outputs": [
    {
     "name": "stdout",
     "output_type": "stream",
     "text": [
      "Optimization terminated successfully.\n",
      "         Current function value: 6204.851629\n",
      "         Iterations: 461\n",
      "         Function evaluations: 759\n"
     ]
    }
   ],
   "source": [
    "# ordered by θ_I, θ_F, θ_V, θ_H, θ_X\n",
    "θ = (-0.018, -0.114, -0.303, -0.049, -2.948)\n",
    "res = minimize(quasilikelihood_wrapped, θ, args=(data,), method='nelder-mead', options={'xtol': 1e-7, 'disp': True})"
   ]
  },
  {
   "cell_type": "code",
   "execution_count": 18,
   "metadata": {},
   "outputs": [
    {
     "name": "stdout",
     "output_type": "stream",
     "text": [
      "θ_I = -1.299, θ_F = -0.102, θ_V = -2.152, θ_H = 0.452, θ_X = -3.024\n"
     ]
    }
   ],
   "source": [
    "θ = res.x\n",
    "print('θ_I = {:1.3f}, θ_F = {:1.3f}, θ_V = {:1.3f}, θ_H = {:1.3f}, θ_X = {:1.3f}'.format(*θ))"
   ]
  },
  {
   "cell_type": "markdown",
   "metadata": {},
   "source": [
    "The biggest difference bwteen my estimates and the ones in BGL is that $\\theta_H$ becomes postive."
   ]
  },
  {
   "cell_type": "markdown",
   "metadata": {},
   "source": [
    "# c. Calculate the standard errors"
   ]
  },
  {
   "cell_type": "markdown",
   "metadata": {},
   "source": [
    "Using the standard outer product approximation method,\n",
    "\n",
    "$$\n",
    "\\widehat{Var}(\\theta^{ML}) = \\left[ \\sum_{j} \\frac{d \\log L_j \\left( \\theta^{ML} \\right)}{\\theta} \\frac{d \\log L_j \\left( \\theta^{ML} \\right) ^ \\prime}{\\theta}\\right].\n",
    "$$"
   ]
  },
  {
   "cell_type": "markdown",
   "metadata": {},
   "source": [
    "We approximate $\\frac{d \\log L_j \\left( \\theta^{ML} \\right)}{\\theta}$ by\n",
    "\n",
    "$$\n",
    "\\frac {\\log L_j \\left( \\theta^{ML} + h \\right) - \\log L_j \\left( \\theta^{ML} - h \\right)} {2h},\n",
    "$$\n",
    "\n",
    "where $h$ is a sufficiently small perturbation chosen following https://en.wikipedia.org/wiki/Numerical_differentiation."
   ]
  },
  {
   "cell_type": "code",
   "execution_count": 19,
   "metadata": {},
   "outputs": [],
   "source": [
    "# set the difference\n",
    "h = θ * np.sqrt(np.finfo(float).eps)"
   ]
  },
  {
   "cell_type": "code",
   "execution_count": 20,
   "metadata": {},
   "outputs": [],
   "source": [
    "# matrices for storing the loglikelihood for perturbed θ\n",
    "L_right = np.empty((len(θ), data.shape[0]))\n",
    "L_left = np.empty((len(θ), data.shape[0]))\n",
    "L_gradient = np.empty((len(θ), data.shape[0]))\n",
    "\n",
    "# array for stroing the perturbed θ\n",
    "θ_right = np.empty(len(θ))\n",
    "θ_left = np.empty(len(θ))"
   ]
  },
  {
   "cell_type": "code",
   "execution_count": 21,
   "metadata": {},
   "outputs": [
    {
     "name": "stdout",
     "output_type": "stream",
     "text": [
      "1th derivative calculated.\n",
      "2th derivative calculated.\n",
      "3th derivative calculated.\n",
      "4th derivative calculated.\n",
      "5th derivative calculated.\n"
     ]
    }
   ],
   "source": [
    "# DAV array for interpolation\n",
    "DAV_range = np.arange(0., 10.0, 0.5)\n",
    "\n",
    "# for 1sr to 5th parameter respectively\n",
    "for i in range(len(θ)):\n",
    "    θ_right[:] = θ[:]\n",
    "    θ_left[:] = θ[:]\n",
    "    \n",
    "    # calculate CCP for right perturbed θ\n",
    "    θ_right[i] = θ[i] + h[i]\n",
    "    VΩ_prime_right, VΩ_right = solve_bellman_jitted(θ_right)\n",
    "    CCP_inv_right = comute_CCP_inv(VΩ_prime_right, VΩ_right, θ_right)\n",
    "    \n",
    "    # calculate CCP for left perturbed θ\n",
    "    θ_left[i] = θ[i] - h[i]\n",
    "    VΩ_prime_left, VΩ_left = solve_bellman_jitted(θ_left)\n",
    "    CCP_inv_left = comute_CCP_inv(VΩ_prime_left, VΩ_left, θ_left)\n",
    "    \n",
    "    # for each observation\n",
    "    for j in range(len(data)):\n",
    "        region, Linv, ordered_violator, DAV, vio, inv = data[j]\n",
    "        # interpolate CCP for this observation\n",
    "        CCP_obs_right = interp(DAV_range, CCP_inv_right[int(region), int(Linv), int(ordered_violator), :, int(vio)], DAV)\n",
    "        CCP_obs_left = interp(DAV_range, CCP_inv_left[int(region), int(Linv), int(ordered_violator), :, int(vio)], DAV)\n",
    "        # calculate loglikeligood of this observation\n",
    "        if inv == 1.:\n",
    "            L_right[i, j] = np.log(CCP_obs_right)\n",
    "            L_left[i, j] = np.log(CCP_obs_left)\n",
    "        else:\n",
    "            L_right[i, j] = np.log(1 - CCP_obs_right)\n",
    "            L_left[i, j] = np.log(1 - CCP_obs_left)            \n",
    "    \n",
    "    # calculate the approximated gradient\n",
    "    L_gradient[i] = (L_right[i] - L_left[i]) / (2 * h[i])\n",
    "\n",
    "    print(f\"{i+1}th derivative calculated.\")"
   ]
  },
  {
   "cell_type": "code",
   "execution_count": 22,
   "metadata": {},
   "outputs": [
    {
     "name": "stdout",
     "output_type": "stream",
     "text": [
      "[[ 1.646e-02 -6.685e-04  2.030e-03 -3.907e-03  4.518e-03]\n",
      " [-6.685e-04  3.539e-04 -2.392e-03  1.606e-05 -3.352e-04]\n",
      " [ 2.030e-03 -2.392e-03  7.330e-02 -3.773e-03  7.262e-03]\n",
      " [-3.907e-03  1.606e-05 -3.773e-03  1.375e-03 -1.396e-03]\n",
      " [ 4.518e-03 -3.352e-04  7.262e-03 -1.396e-03  3.600e-03]]\n"
     ]
    }
   ],
   "source": [
    "# the variance covariance matrix\n",
    "varcov = np.linalg.inv(np.dot(L_gradient, L_gradient.T))\n",
    "\n",
    "print(varcov)"
   ]
  },
  {
   "cell_type": "code",
   "execution_count": 23,
   "metadata": {},
   "outputs": [
    {
     "name": "stdout",
     "output_type": "stream",
     "text": [
      "σ_I = 0.128, σ_F = 0.019, σ_V = 0.271, σ_H = 0.037, σ_X = 0.060\n"
     ]
    }
   ],
   "source": [
    "# the standard error of each estimated parameter\n",
    "std = np.sqrt(np.diag(varcov))\n",
    "print('σ_I = {:1.3f}, σ_F = {:1.3f}, σ_V = {:1.3f}, σ_H = {:1.3f}, σ_X = {:1.3f}'.format(*std))"
   ]
  },
  {
   "cell_type": "markdown",
   "metadata": {},
   "source": [
    "Recall the estimated values were:"
   ]
  },
  {
   "cell_type": "code",
   "execution_count": 24,
   "metadata": {},
   "outputs": [
    {
     "name": "stdout",
     "output_type": "stream",
     "text": [
      "θ_I = -1.299, θ_F = -0.102, θ_V = -2.152, θ_H = 0.452, θ_X = -3.024\n"
     ]
    }
   ],
   "source": [
    "print('θ_I = {:1.3f}, θ_F = {:1.3f}, θ_V = {:1.3f}, θ_H = {:1.3f}, θ_X = {:1.3f}'.format(*θ))"
   ]
  },
  {
   "cell_type": "markdown",
   "metadata": {},
   "source": [
    "Which gives us the 95% confidence interval as:"
   ]
  },
  {
   "cell_type": "code",
   "execution_count": 25,
   "metadata": {},
   "outputs": [
    {
     "name": "stdout",
     "output_type": "stream",
     "text": [
      "95% CI of θ_I = [-1.550, -1.047]\n",
      "95% CI of θ_F = [-0.139, -0.065]\n",
      "95% CI of θ_V = [-2.683, -1.622]\n",
      "95% CI of θ_H = [0.380, 0.525]\n",
      "95% CI of θ_X = [-3.142, -2.907]\n"
     ]
    }
   ],
   "source": [
    "for i, para in enumerate('θ_I,θ_F,θ_V,θ_H,θ_X'.split(',')):\n",
    "    print(f\"95% CI of {para} = [{θ[i]-1.96*std[i]:1.3f}, {θ[i]+1.96*std[i]:1.3f}]\")"
   ]
  },
  {
   "cell_type": "markdown",
   "metadata": {},
   "source": [
    "Therefore, all the 5 estimates are significant."
   ]
  },
  {
   "cell_type": "markdown",
   "metadata": {},
   "source": [
    "# 3) Interpretation of results"
   ]
  },
  {
   "cell_type": "markdown",
   "metadata": {},
   "source": [
    "## a. What is the implicit cost of investment to a plant in dollars? What about the implicit cost of HPV status, inspections, and violations? Explain."
   ]
  },
  {
   "cell_type": "markdown",
   "metadata": {},
   "source": [
    "By evaluating the relative size of the paramter to the one of fines, we can interpret the parameter in terms of dollar measures."
   ]
  },
  {
   "cell_type": "code",
   "execution_count": 26,
   "metadata": {},
   "outputs": [
    {
     "data": {
      "text/plain": [
       "29.744452374952008"
      ]
     },
     "execution_count": 26,
     "metadata": {},
     "output_type": "execute_result"
    }
   ],
   "source": [
    "# investment\n",
    "print(θ[4] / θ[1])"
   ]
  },
  {
   "cell_type": "markdown",
   "metadata": {},
   "source": [
    "The implicit cost of investment to a plant is approximately 29.7 million dollars."
   ]
  },
  {
   "cell_type": "code",
   "execution_count": 27,
   "metadata": {},
   "outputs": [
    {
     "name": "stdout",
     "output_type": "stream",
     "text": [
      "12.773227352630371 21.171355515818377\n"
     ]
    }
   ],
   "source": [
    "# inspections and violations\n",
    "print(θ[0] / θ[1], θ[2] / θ[1])"
   ]
  },
  {
   "cell_type": "markdown",
   "metadata": {},
   "source": [
    "The implicit cost of inspections and violations are 12.7 and 21.2 million dollars respectively."
   ]
  },
  {
   "cell_type": "code",
   "execution_count": 28,
   "metadata": {},
   "outputs": [
    {
     "name": "stdout",
     "output_type": "stream",
     "text": [
      "-4.449774561914695\n"
     ]
    }
   ],
   "source": [
    "# HPV status\n",
    "print(θ[3] / θ[1])"
   ]
  },
  {
   "cell_type": "markdown",
   "metadata": {},
   "source": [
    "The weird part of our estimation is that, being HPV status actually gives plant positive earnings which are equivalent to 4.4 million dollars."
   ]
  },
  {
   "cell_type": "markdown",
   "metadata": {},
   "source": [
    "## b. What if fines carried a stigma, so that 1 dollar of fines was actually equivalent to $\\alpha$ dollar of real cost to the plant? How would this change your implicit costs above? Explain."
   ]
  },
  {
   "cell_type": "markdown",
   "metadata": {},
   "source": [
    "The implicit cost is always measured by the real cost. If \\$1 of fines is actually equivalent to \\$$\\alpha$ of real cost, then all the other implicit cost in 3.a will be multiplied by $\\alpha$, too."
   ]
  },
  {
   "cell_type": "code",
   "execution_count": null,
   "metadata": {},
   "outputs": [],
   "source": []
  }
 ],
 "metadata": {
  "kernelspec": {
   "display_name": "Python 3",
   "language": "python",
   "name": "python3"
  },
  "language_info": {
   "codemirror_mode": {
    "name": "ipython",
    "version": 3
   },
   "file_extension": ".py",
   "mimetype": "text/x-python",
   "name": "python",
   "nbconvert_exporter": "python",
   "pygments_lexer": "ipython3",
   "version": "3.6.5"
  }
 },
 "nbformat": 4,
 "nbformat_minor": 2
}
