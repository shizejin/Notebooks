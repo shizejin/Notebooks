{
 "cells": [
  {
   "cell_type": "code",
   "execution_count": 1,
   "metadata": {},
   "outputs": [],
   "source": [
    "import numpy as np\n",
    "import pandas as pd\n",
    "from numba import njit, prange\n",
    "from interpolation import interp\n",
    "from scipy.optimize import minimize"
   ]
  },
  {
   "cell_type": "code",
   "execution_count": 2,
   "metadata": {},
   "outputs": [],
   "source": [
    "import matplotlib.pyplot as plt\n",
    "\n",
    "% matplotlib inline"
   ]
  },
  {
   "cell_type": "code",
   "execution_count": 3,
   "metadata": {},
   "outputs": [],
   "source": [
    "γ = 0.5772156649"
   ]
  },
  {
   "cell_type": "code",
   "execution_count": 4,
   "metadata": {},
   "outputs": [],
   "source": [
    "# region (10) * lag_investment (2) * lag2_investent(2) * ordered_violator (3) * disc_violations (20)\n",
    "\n",
    "n_naics_recode = 7\n",
    "n_region = 10\n",
    "n_Linv = 2\n",
    "n_L2inv = 2\n",
    "n_ordered_violator = 3\n",
    "n_DAV = 20\n",
    "n_vio = 2\n",
    "\n",
    "# focus on the fist sector\n",
    "sector = 0"
   ]
  },
  {
   "cell_type": "code",
   "execution_count": 5,
   "metadata": {},
   "outputs": [],
   "source": [
    "f = open(\"/Users/hyde/Dropbox/UArizona/ECON 696/data_for_bellman_computations.csv\")\n",
    "lines = f.readlines()\n",
    "\n",
    "simulated_dist = np.empty((n_naics_recode, n_region, n_Linv, n_L2inv, n_ordered_violator, n_DAV, 80, 7))\n",
    "\n",
    "for line in lines[1:]:\n",
    "    line = line.split(',')\n",
    "    for i in range(80):\n",
    "        simulated_dist[int(line[0])-1, int(line[1])-1, int(line[2]), int(line[3]), int(line[4]), int(line[5])-1][i] = [float(e) for e in line[7+7*i:14+7*i]]"
   ]
  },
  {
   "cell_type": "code",
   "execution_count": 6,
   "metadata": {},
   "outputs": [
    {
     "name": "stdout",
     "output_type": "stream",
     "text": [
      "frsnumber 0 -2\n",
      "quarter 1 -1\n",
      "inspection 2 0\n",
      "fine 3 1\n",
      "violation 4 2\n",
      "HPV_recorded 5 3\n",
      "lag_investment 6 4\n",
      "lag2_investment 7 5\n",
      "investment 8 6\n",
      "naics_recode 9 7\n",
      "orig_naics 10 8\n",
      "region 11 9\n",
      "compliance 12 10\n",
      "violator 13 11\n",
      "HPV_status 14 12\n",
      "ordered_violator 15 13\n",
      "numHPV 16 14\n",
      "disc_uncleared_violations 17 15\n",
      "violator_notHPV 18 16\n",
      "lag_compliance 19 17\n",
      "lag_violator_notHPV 20 18\n",
      "lag_HPV_status 21 19\n",
      "invest_times_sum_next_six\n",
      " 22 20\n"
     ]
    }
   ],
   "source": [
    "f = open(\"/Users/hyde/Dropbox/UArizona/ECON 696/analysis_data.csv\")\n",
    "lines = f.readlines()\n",
    "\n",
    "for i, col in enumerate(lines[0].split(',')):\n",
    "    print(col, i, i-2)\n",
    "\n",
    "lines[0]\n",
    "data = []\n",
    "for line in lines[1:]:\n",
    "    line = [e for e in line.strip().split(',')[2:18]]\n",
    "    vio = int(line[2])\n",
    "    Linv = int(line[4])\n",
    "    inv = int(line[6])\n",
    "    naics_recode = int(line[7])\n",
    "    region = int(line[9])\n",
    "    ordered_violator = int(line[13])\n",
    "    DAV = float(line[15])\n",
    "    \n",
    "    if (naics_recode - 1) == sector:\n",
    "        data.append([region-1, Linv, ordered_violator, DAV, vio, inv])\n",
    "        \n",
    "data = np.array(data)"
   ]
  },
  {
   "cell_type": "code",
   "execution_count": 21,
   "metadata": {},
   "outputs": [],
   "source": [
    "def BGL():\n",
    "    \n",
    "    # depreciation rate\n",
    "    δ = 0.1\n",
    "    \n",
    "    # discount factor\n",
    "    β = 0.95 ** (1/4.)\n",
    "    \n",
    "    # initialize V(Ω') and V(Ω)\n",
    "    # set the initial values to be 0\n",
    "    \n",
    "    # the range of DAV for interpolation\n",
    "    DAV_range = np.arange(0., 10.0, 0.5)\n",
    "    \n",
    "    @njit\n",
    "    def initialize():\n",
    "        # V(Ω')\n",
    "        # Notice that L2inv is a useless state for Ω'\n",
    "        VΩ_prime = np.zeros((n_region, n_Linv, n_ordered_violator, n_DAV, n_vio))\n",
    "        # V(Ω) \n",
    "        VΩ = np.zeros((n_region, n_Linv, n_L2inv, n_ordered_violator, n_DAV))\n",
    "        \n",
    "        return VΩ_prime, VΩ\n",
    "    \n",
    "    @njit(parallel=True)\n",
    "    def VΩ_prime_operator(VΩ_prime, VΩ, θ):\n",
    "        \n",
    "        θ_I, θ_F, θ_V, θ_H, θ_X = θ\n",
    "        \n",
    "        for region in prange(n_region):\n",
    "            for Linv in prange(n_Linv):\n",
    "                for ordered_violator in prange(n_ordered_violator):\n",
    "                    for i_DAV in prange(n_DAV):\n",
    "                        for vio in prange(n_vio):\n",
    "                            DAV = i_DAV * 0.5\n",
    "\n",
    "                            # for compliance\n",
    "                            if ordered_violator == 0:\n",
    "                                VΩ_prime[region, Linv, ordered_violator, i_DAV, vio] = β * VΩ[region, 0, Linv, ordered_violator, i_DAV] + γ\n",
    "\n",
    "                            else:\n",
    "\n",
    "                                DAV_next = min((1 - δ) * DAV + vio, 9.5)\n",
    "\n",
    "                                VΩ_prime[region, Linv, ordered_violator, i_DAV, vio] = \\\n",
    "                                    np.log(np.exp(β * interp(DAV_range, VΩ[region, 0, Linv, ordered_violator, :], DAV_next))\n",
    "                                    + np.exp(θ_X + β * interp(DAV_range, VΩ[region, 1, Linv, ordered_violator, :], DAV_next))) + γ\n",
    "\n",
    "\n",
    "\n",
    "    @njit(parallel=True)\n",
    "    def VΩ_operator(VΩ_prime, VΩ, θ):\n",
    "        \n",
    "        θ_I, θ_F, θ_V, θ_H, θ_X = θ\n",
    "        \n",
    "        for region in prange(n_region):\n",
    "            for Linv in prange(n_Linv):\n",
    "                for L2inv in prange(n_L2inv):\n",
    "                    for ordered_violator in prange(n_ordered_violator):\n",
    "                        for i_DAV in prange(n_DAV):\n",
    "                            \n",
    "                            # find out the transitions\n",
    "                            # for compliance\n",
    "                            if (ordered_violator == 0):\n",
    "                                transition = simulated_dist[sector, region, 0, 0, 0, 0]\n",
    "                            else:\n",
    "                                transition = simulated_dist[sector, region, Linv, L2inv, ordered_violator, i_DAV]\n",
    "                            \n",
    "                            VΩ[region, Linv, L2inv, ordered_violator, i_DAV] = 0.\n",
    "                            \n",
    "                            for i in prange(80):\n",
    "                                ins, vio, fine, prob, prob0, prob1, prob2 = transition[i]\n",
    "                                util = θ_I * ins + fine * θ_F + vio * θ_V\n",
    "                                \n",
    "                                # if transit to compliance plant\n",
    "                                util += prob0 * VΩ_prime[region, Linv, 0, 0, int(vio)]\n",
    "                                \n",
    "                                # if transit to regular violator or high priority violator\n",
    "                                util += prob1 * VΩ_prime[region, Linv, 1, i_DAV, int(vio)]\n",
    "                                util += prob2 * (VΩ_prime[region, Linv, 2, i_DAV, int(vio)] + θ_H)\n",
    "                                \n",
    "                                VΩ[region, Linv, L2inv, ordered_violator, i_DAV] += prob * util\n",
    "    \n",
    "    def solve_bellman(θ, tol=1e-7, verbose=True):\n",
    "\n",
    "        VΩ_prime, VΩ = initialize()\n",
    "\n",
    "        dist = np.inf\n",
    "        i = 0\n",
    "\n",
    "        while dist > tol:\n",
    "\n",
    "            VΩ_old = np.copy(VΩ)\n",
    "\n",
    "            VΩ_operator(VΩ_prime, VΩ, θ)\n",
    "            VΩ_prime_operator(VΩ_prime, VΩ, θ)\n",
    "\n",
    "            dist = np.max(np.abs(VΩ_old - VΩ))\n",
    "            i += 1\n",
    "\n",
    "            if (i % 100 == 0) & (verbose):\n",
    "                print(f'{i} times of iteration: error = {dist}')\n",
    "\n",
    "        return VΩ_prime, VΩ\n",
    "    \n",
    "    @njit\n",
    "    def solve_bellman_jitted(θ, tol=1e-7):\n",
    "\n",
    "        VΩ_prime, VΩ = initialize()\n",
    "\n",
    "        dist = np.inf\n",
    "\n",
    "        while dist > tol:\n",
    "\n",
    "            VΩ_old = np.copy(VΩ)\n",
    "\n",
    "            VΩ_operator(VΩ_prime, VΩ, θ)\n",
    "            VΩ_prime_operator(VΩ_prime, VΩ, θ)\n",
    "\n",
    "            dist = np.max(np.abs(VΩ_old - VΩ))\n",
    "\n",
    "        return VΩ_prime, VΩ\n",
    "\n",
    "    @njit(parallel=True)\n",
    "    def comute_CCP_inv(VΩ_prime, VΩ, θ):\n",
    "\n",
    "        CCP_inv = np.zeros_like(VΩ_prime)\n",
    "\n",
    "        θ_I, θ_F, θ_V, θ_H, θ_X = θ\n",
    "\n",
    "        for region in prange(n_region):\n",
    "            for Linv in prange(n_Linv):\n",
    "                for ordered_violator in prange(n_ordered_violator):\n",
    "                    for i_DAV in prange(n_DAV):\n",
    "                        for vio in prange(n_vio):\n",
    "                            DAV = i_DAV * 0.5\n",
    "\n",
    "                            # for compliance\n",
    "                            # no investment\n",
    "                            if ordered_violator == 0:\n",
    "                                continue\n",
    "\n",
    "                            else:\n",
    "\n",
    "                                DAV_next = min((1 - δ) * DAV + vio, 9.5)\n",
    "\n",
    "                                exp_value_inv = np.exp(β * interp(DAV_range, VΩ[region, 0, Linv, ordered_violator, :], DAV_next))\n",
    "                                exp_value_noinv = np.exp(θ_X + β * interp(DAV_range, VΩ[region, 1, Linv, ordered_violator, :], DAV_next))\n",
    "                                CCP_inv[region, Linv, ordered_violator, i_DAV, vio] = exp_value_inv / (exp_value_inv + exp_value_noinv)\n",
    "\n",
    "        return CCP_inv\n",
    "    \n",
    "    @njit\n",
    "    def quasilikelihood(CCP_inv, data):\n",
    "        \n",
    "        L = 0.\n",
    "        for i in range(data.shape[0]):\n",
    "            region, Linv, ordered_violator, DAV, vio, inv = data[i]\n",
    "            CCP = interp(DAV_range, CCP_inv[int(region), int(Linv), int(ordered_violator), :, int(vio)], DAV)\n",
    "            \n",
    "            if inv == 1:\n",
    "                L += np.log(CCP)\n",
    "            else:\n",
    "                L += np.log(1 - CCP)\n",
    "                \n",
    "        return L\n",
    "    \n",
    "    @njit\n",
    "    def quasilikelihood_wrapped(θ, data):\n",
    "        \n",
    "        VΩ_prime, VΩ = solve_bellman_jitted(θ)\n",
    "        CCP_inv = comute_CCP_inv(VΩ_prime, VΩ, θ)\n",
    "        L = quasilikelihood(CCP_inv, data)\n",
    "        \n",
    "        # return -L because we want to use sp.optimize.minimize to do optimization\n",
    "        \n",
    "        return - L\n",
    "    \n",
    "    @njit(parallel=True)\n",
    "    def standard_error(θ, data, h):\n",
    "        \"\"\"\n",
    "        use standard outer product approximation method.\n",
    "        \"\"\"\n",
    "        \n",
    "        L_right = np.empty((len(θ), data.shape[0]))\n",
    "        L_left = np.empty((len(θ), data.shape[0]))\n",
    "        L_gradient = np.empty((len(θ), data.shape[0]))\n",
    "        θ_right = np.empty(len(θ))\n",
    "        θ_left = np.empty(len(θ))\n",
    "        \n",
    "        for i in prange(len(θ)):\n",
    "            θ_right[:] = θ[:]\n",
    "            θ_left[:] = θ[:]\n",
    "            \n",
    "            θ_right[i] = θ[i] + h[i]\n",
    "            VΩ_prime_right, VΩ_right = solve_bellman_jitted(θ_right)\n",
    "            CCP_inv_right = comute_CCP_inv(VΩ_prime_right, VΩ_right, θ_right)\n",
    "            \n",
    "            θ_left[i] = θ[i] - h[i]\n",
    "            VΩ_prime_left, VΩ_left = solve_bellman_jitted(θ_left)\n",
    "            CCP_inv_left = comute_CCP_inv(VΩ_prime_left, VΩ_left, θ_left)\n",
    "            \n",
    "#             for j in range(data.shape[0]):\n",
    "            for j in range(2):\n",
    "                region, Linv, ordered_violator, DAV, vio, inv = data[i]\n",
    "                L_right[i, j] = interp(DAV_range, CCP_inv_right[int(region), int(Linv), int(ordered_violator), :, int(vio)], DAV)\n",
    "                L_left[i, j] = interp(DAV_range, CCP_inv_left[int(region), int(Linv), int(ordered_violator), :, int(vio)], DAV)\n",
    "                \n",
    "            L_gradient[i] = (L_right[i] - L_left[i]) / (2 * h[i])\n",
    "            \n",
    "        return np.linalg.inv(np.dot(L_gradient, L_gradient.T))\n",
    "\n",
    "    return initialize, VΩ_prime_operator, VΩ_operator, solve_bellman, comute_CCP_inv, quasilikelihood, quasilikelihood_wrapped, standard_error"
   ]
  },
  {
   "cell_type": "markdown",
   "metadata": {},
   "source": [
    "Compute the plant's dynamic optimization decision for the parameters $\\widehat{\\theta} \\equiv ( \\theta^X = -2, \\theta^I = -0.5, \\theta^V = -0.5, \\theta^F = -0.1, \\theta^H = -0.1 )$. Report the investment probability for all states with DAV = 2 (for which the integer grid takes on a value of 4)."
   ]
  },
  {
   "cell_type": "code",
   "execution_count": 23,
   "metadata": {
    "scrolled": false
   },
   "outputs": [],
   "source": [
    "initialize, VΩ_prime_operator, VΩ_operator, solve_bellman, comute_CCP_inv, quasilikelihood, quasilikelihood_wrapped, standard_error = BGL()"
   ]
  },
  {
   "cell_type": "code",
   "execution_count": 9,
   "metadata": {
    "scrolled": false
   },
   "outputs": [
    {
     "name": "stdout",
     "output_type": "stream",
     "text": [
      "100 times of iteration: error = 0.47838337613728754\n",
      "200 times of iteration: error = 0.041636793388242666\n",
      "300 times of iteration: error = 0.011549487763218735\n",
      "400 times of iteration: error = 0.003203769379631183\n",
      "500 times of iteration: error = 0.0008887093822238512\n",
      "600 times of iteration: error = 0.00024652347670439667\n",
      "700 times of iteration: error = 6.838436265610426e-05\n",
      "800 times of iteration: error = 1.8969475640062683e-05\n",
      "900 times of iteration: error = 5.26203660911051e-06\n",
      "1000 times of iteration: error = 1.4596623785223528e-06\n",
      "1100 times of iteration: error = 4.049029982411412e-07\n",
      "1200 times of iteration: error = 1.123181263551487e-07\n"
     ]
    }
   ],
   "source": [
    "θ = (-2., -0.5, -0.5, -0.1, -0.1)\n",
    "VΩ_prime, VΩ = solve_bellman(θ)"
   ]
  },
  {
   "cell_type": "code",
   "execution_count": 10,
   "metadata": {},
   "outputs": [
    {
     "name": "stdout",
     "output_type": "stream",
     "text": [
      "2.49 s ± 356 ms per loop (mean ± std. dev. of 7 runs, 1 loop each)\n"
     ]
    }
   ],
   "source": [
    "%timeit solve_bellman(θ, verbose=False)"
   ]
  },
  {
   "cell_type": "code",
   "execution_count": 11,
   "metadata": {},
   "outputs": [],
   "source": [
    "CCP_inv = comute_CCP_inv(VΩ_prime, VΩ, θ)"
   ]
  },
  {
   "cell_type": "code",
   "execution_count": 12,
   "metadata": {},
   "outputs": [
    {
     "name": "stdout",
     "output_type": "stream",
     "text": [
      "region=0, Linv=0, ordered_violator=1, vio=0:                     Pr(inv=1) = 0.6803070493342397\n",
      "region=0, Linv=0, ordered_violator=1, vio=1:                     Pr(inv=1) = 0.5373679755655467\n",
      "region=0, Linv=0, ordered_violator=2, vio=0:                     Pr(inv=1) = 0.15963241589196886\n",
      "region=0, Linv=0, ordered_violator=2, vio=1:                     Pr(inv=1) = 0.08510747557334229\n",
      "region=0, Linv=1, ordered_violator=1, vio=0:                     Pr(inv=1) = 0.6862549739182929\n",
      "region=0, Linv=1, ordered_violator=1, vio=1:                     Pr(inv=1) = 0.5020803549638929\n",
      "region=0, Linv=1, ordered_violator=2, vio=0:                     Pr(inv=1) = 0.20136512697959194\n",
      "region=0, Linv=1, ordered_violator=2, vio=1:                     Pr(inv=1) = 0.14579354196793798\n",
      "region=1, Linv=0, ordered_violator=1, vio=0:                     Pr(inv=1) = 0.6497889422068087\n",
      "region=1, Linv=0, ordered_violator=1, vio=1:                     Pr(inv=1) = 0.4868902390401721\n",
      "region=1, Linv=0, ordered_violator=2, vio=0:                     Pr(inv=1) = 0.12185835628496751\n",
      "region=1, Linv=0, ordered_violator=2, vio=1:                     Pr(inv=1) = 0.04404376780682814\n",
      "region=1, Linv=1, ordered_violator=1, vio=0:                     Pr(inv=1) = 0.6468454033684402\n",
      "region=1, Linv=1, ordered_violator=1, vio=1:                     Pr(inv=1) = 0.44509318592705355\n",
      "region=1, Linv=1, ordered_violator=2, vio=0:                     Pr(inv=1) = 0.172463724215471\n",
      "region=1, Linv=1, ordered_violator=2, vio=1:                     Pr(inv=1) = 0.10877040860351925\n",
      "region=2, Linv=0, ordered_violator=1, vio=0:                     Pr(inv=1) = 0.5076902192794162\n",
      "region=2, Linv=0, ordered_violator=1, vio=1:                     Pr(inv=1) = 0.3429090855987453\n",
      "region=2, Linv=0, ordered_violator=2, vio=0:                     Pr(inv=1) = 0.11553342620136157\n",
      "region=2, Linv=0, ordered_violator=2, vio=1:                     Pr(inv=1) = 0.06146110071651143\n",
      "region=2, Linv=1, ordered_violator=1, vio=0:                     Pr(inv=1) = 0.4894395847913309\n",
      "region=2, Linv=1, ordered_violator=1, vio=1:                     Pr(inv=1) = 0.3249007546134772\n",
      "region=2, Linv=1, ordered_violator=2, vio=0:                     Pr(inv=1) = 0.2161714924944168\n",
      "region=2, Linv=1, ordered_violator=2, vio=1:                     Pr(inv=1) = 0.17403406271121757\n",
      "region=3, Linv=0, ordered_violator=1, vio=0:                     Pr(inv=1) = 0.6048503708275803\n",
      "region=3, Linv=0, ordered_violator=1, vio=1:                     Pr(inv=1) = 0.46982353382642433\n",
      "region=3, Linv=0, ordered_violator=2, vio=0:                     Pr(inv=1) = 0.11069340668602497\n",
      "region=3, Linv=0, ordered_violator=2, vio=1:                     Pr(inv=1) = 0.043222001748867866\n",
      "region=3, Linv=1, ordered_violator=1, vio=0:                     Pr(inv=1) = 0.5843330029510466\n",
      "region=3, Linv=1, ordered_violator=1, vio=1:                     Pr(inv=1) = 0.4516710957490272\n",
      "region=3, Linv=1, ordered_violator=2, vio=0:                     Pr(inv=1) = 0.15960192005369753\n",
      "region=3, Linv=1, ordered_violator=2, vio=1:                     Pr(inv=1) = 0.09985647990948811\n",
      "region=4, Linv=0, ordered_violator=1, vio=0:                     Pr(inv=1) = 0.6384411074930187\n",
      "region=4, Linv=0, ordered_violator=1, vio=1:                     Pr(inv=1) = 0.47949066893615727\n",
      "region=4, Linv=0, ordered_violator=2, vio=0:                     Pr(inv=1) = 0.2670293974223057\n",
      "region=4, Linv=0, ordered_violator=2, vio=1:                     Pr(inv=1) = 0.1401791620033539\n",
      "region=4, Linv=1, ordered_violator=1, vio=0:                     Pr(inv=1) = 0.629158229774645\n",
      "region=4, Linv=1, ordered_violator=1, vio=1:                     Pr(inv=1) = 0.43580895654492513\n",
      "region=4, Linv=1, ordered_violator=2, vio=0:                     Pr(inv=1) = 0.34338932367081343\n",
      "region=4, Linv=1, ordered_violator=2, vio=1:                     Pr(inv=1) = 0.27330469874602964\n",
      "region=5, Linv=0, ordered_violator=1, vio=0:                     Pr(inv=1) = 0.5498722571510078\n",
      "region=5, Linv=0, ordered_violator=1, vio=1:                     Pr(inv=1) = 0.33729641793279097\n",
      "region=5, Linv=0, ordered_violator=2, vio=0:                     Pr(inv=1) = 0.12728289488191694\n",
      "region=5, Linv=0, ordered_violator=2, vio=1:                     Pr(inv=1) = 0.06080848254141699\n",
      "region=5, Linv=1, ordered_violator=1, vio=0:                     Pr(inv=1) = 0.5242834704242114\n",
      "region=5, Linv=1, ordered_violator=1, vio=1:                     Pr(inv=1) = 0.29059542302525254\n",
      "region=5, Linv=1, ordered_violator=2, vio=0:                     Pr(inv=1) = 0.2164805060370165\n",
      "region=5, Linv=1, ordered_violator=2, vio=1:                     Pr(inv=1) = 0.16948093867326322\n",
      "region=6, Linv=0, ordered_violator=1, vio=0:                     Pr(inv=1) = 0.6109050368876434\n",
      "region=6, Linv=0, ordered_violator=1, vio=1:                     Pr(inv=1) = 0.49544875815896994\n",
      "region=6, Linv=0, ordered_violator=2, vio=0:                     Pr(inv=1) = 0.21684577480002853\n",
      "region=6, Linv=0, ordered_violator=2, vio=1:                     Pr(inv=1) = 0.13756868172028985\n",
      "region=6, Linv=1, ordered_violator=1, vio=0:                     Pr(inv=1) = 0.5973994258009208\n",
      "region=6, Linv=1, ordered_violator=1, vio=1:                     Pr(inv=1) = 0.4760115280128446\n",
      "region=6, Linv=1, ordered_violator=2, vio=0:                     Pr(inv=1) = 0.2865371794012981\n",
      "region=6, Linv=1, ordered_violator=2, vio=1:                     Pr(inv=1) = 0.23224878869877763\n",
      "region=7, Linv=0, ordered_violator=1, vio=0:                     Pr(inv=1) = 0.7455644336529775\n",
      "region=7, Linv=0, ordered_violator=1, vio=1:                     Pr(inv=1) = 0.6242748283971429\n",
      "region=7, Linv=0, ordered_violator=2, vio=0:                     Pr(inv=1) = 0.17558683328132332\n",
      "region=7, Linv=0, ordered_violator=2, vio=1:                     Pr(inv=1) = 0.1051656890138949\n",
      "region=7, Linv=1, ordered_violator=1, vio=0:                     Pr(inv=1) = 0.7976396360430266\n",
      "region=7, Linv=1, ordered_violator=1, vio=1:                     Pr(inv=1) = 0.5963319220184548\n",
      "region=7, Linv=1, ordered_violator=2, vio=0:                     Pr(inv=1) = 0.2752127519455498\n",
      "region=7, Linv=1, ordered_violator=2, vio=1:                     Pr(inv=1) = 0.2513098018738156\n",
      "region=8, Linv=0, ordered_violator=1, vio=0:                     Pr(inv=1) = 0.5480620152672785\n",
      "region=8, Linv=0, ordered_violator=1, vio=1:                     Pr(inv=1) = 0.4072198136554982\n",
      "region=8, Linv=0, ordered_violator=2, vio=0:                     Pr(inv=1) = 0.1287385235331727\n",
      "region=8, Linv=0, ordered_violator=2, vio=1:                     Pr(inv=1) = 0.029006102873236163\n",
      "region=8, Linv=1, ordered_violator=1, vio=0:                     Pr(inv=1) = 0.5021189636439172\n",
      "region=8, Linv=1, ordered_violator=1, vio=1:                     Pr(inv=1) = 0.32175378384019504\n",
      "region=8, Linv=1, ordered_violator=2, vio=0:                     Pr(inv=1) = 0.21210473001112448\n",
      "region=8, Linv=1, ordered_violator=2, vio=1:                     Pr(inv=1) = 0.1263234928490754\n",
      "region=9, Linv=0, ordered_violator=1, vio=0:                     Pr(inv=1) = 0.612023356197521\n",
      "region=9, Linv=0, ordered_violator=1, vio=1:                     Pr(inv=1) = 0.4230749018454085\n",
      "region=9, Linv=0, ordered_violator=2, vio=0:                     Pr(inv=1) = 0.16383423484665008\n",
      "region=9, Linv=0, ordered_violator=2, vio=1:                     Pr(inv=1) = 0.06678549828647717\n",
      "region=9, Linv=1, ordered_violator=1, vio=0:                     Pr(inv=1) = 0.592804003829965\n",
      "region=9, Linv=1, ordered_violator=1, vio=1:                     Pr(inv=1) = 0.39377309936052945\n",
      "region=9, Linv=1, ordered_violator=2, vio=0:                     Pr(inv=1) = 0.20156589372742728\n",
      "region=9, Linv=1, ordered_violator=2, vio=1:                     Pr(inv=1) = 0.11883957371503347\n"
     ]
    }
   ],
   "source": [
    "i_DAV = 4 # DAV = 2\n",
    "\n",
    "for region in range(n_region):\n",
    "    for Linv in range(n_Linv):\n",
    "        for ordered_violator in range(1, 3):\n",
    "            for vio in range(2):\n",
    "                print(f'region={region}, Linv={Linv}, ordered_violator={ordered_violator}, vio={vio}: \\\n",
    "                    Pr(inv=1) = {CCP_inv[region, Linv, ordered_violator, i_DAV, vio]}')"
   ]
  },
  {
   "cell_type": "code",
   "execution_count": 13,
   "metadata": {},
   "outputs": [
    {
     "data": {
      "text/plain": [
       "<matplotlib.legend.Legend at 0x102c777668>"
      ]
     },
     "execution_count": 13,
     "metadata": {},
     "output_type": "execute_result"
    },
    {
     "data": {
      "image/png": "[encoded data removed]",
      "text/plain": [
       "<Figure size 432x288 with 1 Axes>"
      ]
     },
     "metadata": {},
     "output_type": "display_data"
    }
   ],
   "source": [
    "plt.plot(np.arange(0., 10., 0.5), CCP_inv[1, 0, 1, :, 0], label=\"no violation\")\n",
    "plt.plot(np.arange(0., 10., 0.5), CCP_inv[1, 0, 1, :, 1], label=\"violation\")\n",
    "\n",
    "plt.legend()"
   ]
  },
  {
   "cell_type": "code",
   "execution_count": 16,
   "metadata": {
    "scrolled": false
   },
   "outputs": [
    {
     "name": "stdout",
     "output_type": "stream",
     "text": [
      "Optimization terminated successfully.\n",
      "         Current function value: 17861.819885\n",
      "         Iterations: 494\n",
      "         Function evaluations: 908\n"
     ]
    }
   ],
   "source": [
    "θ = (-2.948, -0.018, -0.303, -0.114, -0.049)\n",
    "res = minimize(quasilikelihood_wrapped, θ, args=(data,), method='nelder-mead', options={'xtol': 1e-7, 'disp': True})"
   ]
  },
  {
   "cell_type": "code",
   "execution_count": null,
   "metadata": {},
   "outputs": [],
   "source": [
    "standard_error(res.x, data, res.x * np.sqrt(np.finfo(float).eps))"
   ]
  },
  {
   "cell_type": "code",
   "execution_count": 17,
   "metadata": {},
   "outputs": [
    {
     "data": {
      "text/plain": [
       "array([-5.78295791, -0.3756005 , -9.46118409, -2.43120456,  1.75568675])"
      ]
     },
     "execution_count": 17,
     "metadata": {},
     "output_type": "execute_result"
    }
   ],
   "source": [
    "res.x"
   ]
  },
  {
   "cell_type": "code",
   "execution_count": null,
   "metadata": {},
   "outputs": [],
   "source": []
  }
 ],
 "metadata": {
  "kernelspec": {
   "display_name": "Python 3",
   "language": "python",
   "name": "python3"
  },
  "language_info": {
   "codemirror_mode": {
    "name": "ipython",
    "version": 3
   },
   "file_extension": ".py",
   "mimetype": "text/x-python",
   "name": "python",
   "nbconvert_exporter": "python",
   "pygments_lexer": "ipython3",
   "version": "3.6.5"
  }
 },
 "nbformat": 4,
 "nbformat_minor": 2
}
